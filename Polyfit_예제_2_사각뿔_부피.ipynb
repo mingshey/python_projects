{
  "nbformat": 4,
  "nbformat_minor": 0,
  "metadata": {
    "colab": {
      "provenance": [],
      "authorship_tag": "ABX9TyOzU5tAqJNyyr7NKEvOq8pr",
      "include_colab_link": true
    },
    "kernelspec": {
      "name": "python3",
      "display_name": "Python 3"
    },
    "language_info": {
      "name": "python"
    }
  },
  "cells": [
    {
      "cell_type": "markdown",
      "metadata": {
        "id": "view-in-github",
        "colab_type": "text"
      },
      "source": [
        "<a href=\"https://colab.research.google.com/github/mingshey/python_projects/blob/main/Polyfit_%EC%98%88%EC%A0%9C_2_%EC%82%AC%EA%B0%81%EB%BF%94_%EB%B6%80%ED%94%BC.ipynb\" target=\"_parent\"><img src=\"https://colab.research.google.com/assets/colab-badge.svg\" alt=\"Open In Colab\"/></a>"
      ]
    },
    {
      "cell_type": "code",
      "source": [],
      "metadata": {
        "id": "tEqJPzhfWByf"
      },
      "execution_count": null,
      "outputs": []
    },
    {
      "cell_type": "markdown",
      "source": [
        "# 문제 정의"
      ],
      "metadata": {
        "id": "ov0ybsGzV-qA"
      }
    },
    {
      "cell_type": "markdown",
      "source": [
        "Polyfit을 이용한 외삽법의 예제로 구분구적법을 살펴봅시다.\n",
        "\n",
        "<img src=\"https://drive.google.com/uc?id=15B5o6uUQvExKxNexMGun0jwmZMLjTg4v\"\n",
        " width=300 height=300>\n",
        "\n",
        "밑변의 가로 세로가 a, b, 높이가 c인 사각뿔의 부피는 기하학적으로 $$ \\dfrac{1}{3} abc $$ 로 구할 수 있습니다.\n",
        "\n",
        "이것을 구분구적법(quadrature)의 극한으로 구해도 올바른 결과가 나오는지 확인해 보겠습니다.\n",
        "\n",
        "<img src=\"https://drive.google.com/uc?id=1NhAr0jd9hxq7yD0RmZHXFZRoKYePEu4p\" width=350 height=300>\n",
        "\n",
        "먼저 높이를 N개의 구간으로 잘라 $$h=\\dfrac{1}{N}$$ 라 하고, 맨 밑에서부터 $k$번째 $ (0\\le k \\lt N)$ 직육면체의 부피 $$V(k;h)=a(1-\\dfrac{k}{N})\\times b(1-\\dfrac{k}{N})\\times c/N = abc(1-kh)^2 h$$ 룰 $k=0$부터 $k=N-1$까지 더하는 것으로 직사각뿔의 부피의 근삿값을 구해보겠습니다. 즉,\n",
        "$$V(h)=\\sum_{k=0}^{N-1} abc(1-kh)^2 h$$를 h에 대한 함수로 구하여 $h\\rightarrow 0$으로 가는 극한 $$\\lim_{h\\rightarrow0}V(h)$$을 구해보겠습니다."
      ],
      "metadata": {
        "id": "6_lquEEDLCJ3"
      }
    },
    {
      "cell_type": "markdown",
      "source": [
        "## 1. 기호식 유도"
      ],
      "metadata": {
        "id": "qhRS2tlXWHip"
      }
    },
    {
      "cell_type": "code",
      "source": [
        "import sympy as sym"
      ],
      "metadata": {
        "id": "Sm-_8U4dQ2jV"
      },
      "execution_count": null,
      "outputs": []
    },
    {
      "cell_type": "code",
      "source": [
        "a, b, c, N, k = sym.symbols(\"a b c N k\")"
      ],
      "metadata": {
        "id": "x-xxsrdSQ-uA"
      },
      "execution_count": null,
      "outputs": []
    },
    {
      "cell_type": "code",
      "source": [
        "h = 1/N\n",
        "h"
      ],
      "metadata": {
        "colab": {
          "base_uri": "https://localhost:8080/",
          "height": 51
        },
        "id": "udSgl_HAQ80j",
        "outputId": "9c2e687a-8fb4-4674-9a93-d2135ff73479"
      },
      "execution_count": null,
      "outputs": [
        {
          "output_type": "execute_result",
          "data": {
            "text/plain": [
              "1/N"
            ],
            "text/latex": "$\\displaystyle \\frac{1}{N}$"
          },
          "metadata": {},
          "execution_count": 3
        }
      ]
    },
    {
      "cell_type": "markdown",
      "source": [
        "$$V_{k} = a_k \\times b_k \\times c/N$$"
      ],
      "metadata": {
        "id": "_7D2f_xatD8S"
      }
    },
    {
      "cell_type": "code",
      "source": [
        "ak = a*(1-k*h)\n",
        "bk = b*(1-k*h)\n",
        "Vk = ak*bk*h*c\n",
        "Vk"
      ],
      "metadata": {
        "colab": {
          "base_uri": "https://localhost:8080/",
          "height": 60
        },
        "id": "FJvHVaLqRXRN",
        "outputId": "aeea76b1-beed-4862-8a60-c7218b879826"
      },
      "execution_count": null,
      "outputs": [
        {
          "output_type": "execute_result",
          "data": {
            "text/plain": [
              "a*b*c*(1 - k/N)**2/N"
            ],
            "text/latex": "$\\displaystyle \\frac{a b c \\left(1 - \\frac{k}{N}\\right)^{2}}{N}$"
          },
          "metadata": {},
          "execution_count": 4
        }
      ]
    },
    {
      "cell_type": "markdown",
      "source": [
        "$$V_{N} = \\sum_{k=0}^{N-1} \\dfrac{abc\\left(1-\\frac{k}{N}\\right)^2}{N}$$"
      ],
      "metadata": {
        "id": "T7iuZwdxsMOr"
      }
    },
    {
      "cell_type": "code",
      "source": [
        "Vn = sym.Sum(Vk,(k,0,N-1))\n",
        "Vn"
      ],
      "metadata": {
        "colab": {
          "base_uri": "https://localhost:8080/",
          "height": 70
        },
        "id": "eATkYtXRRxil",
        "outputId": "85e682de-a077-4a40-c28f-69fbfeffdc69"
      },
      "execution_count": null,
      "outputs": [
        {
          "output_type": "execute_result",
          "data": {
            "text/plain": [
              "Sum(a*b*c*(1 - k/N)**2/N, (k, 0, N - 1))"
            ],
            "text/latex": "$\\displaystyle \\sum_{k=0}^{N - 1} \\frac{a b c \\left(1 - \\frac{k}{N}\\right)^{2}}{N}$"
          },
          "metadata": {},
          "execution_count": 5
        }
      ]
    },
    {
      "cell_type": "code",
      "source": [
        "VN = Vn.doit().expand()\n",
        "VN"
      ],
      "metadata": {
        "colab": {
          "base_uri": "https://localhost:8080/",
          "height": 52
        },
        "id": "VATPvKLTSD2e",
        "outputId": "58512d98-5ae4-425a-a3b0-09586fef2db1"
      },
      "execution_count": null,
      "outputs": [
        {
          "output_type": "execute_result",
          "data": {
            "text/plain": [
              "a*b*c/3 + a*b*c/(2*N) + a*b*c/(6*N**2)"
            ],
            "text/latex": "$\\displaystyle \\frac{a b c}{3} + \\frac{a b c}{2 N} + \\frac{a b c}{6 N^{2}}$"
          },
          "metadata": {},
          "execution_count": 6
        }
      ]
    },
    {
      "cell_type": "markdown",
      "source": [
        "$$ V = \\lim_{N \\rightarrow \\infty} V_{N} $$"
      ],
      "metadata": {
        "id": "saR4ON3ur6D2"
      }
    },
    {
      "cell_type": "code",
      "source": [
        "V = sym.limit(VN, N, sym.oo)\n",
        "V"
      ],
      "metadata": {
        "colab": {
          "base_uri": "https://localhost:8080/",
          "height": 52
        },
        "id": "VMdgem2qSOTG",
        "outputId": "c2c64c2b-b038-42c7-e730-45fc420ce418"
      },
      "execution_count": null,
      "outputs": [
        {
          "output_type": "execute_result",
          "data": {
            "text/plain": [
              "a*b*c/3"
            ],
            "text/latex": "$\\displaystyle \\frac{a b c}{3}$"
          },
          "metadata": {},
          "execution_count": 7
        }
      ]
    },
    {
      "cell_type": "markdown",
      "source": [
        "## 수치적 해법"
      ],
      "metadata": {
        "id": "zxdwSUkVWRYQ"
      }
    },
    {
      "cell_type": "code",
      "execution_count": null,
      "metadata": {
        "id": "-dd3XyQOKkhq"
      },
      "outputs": [],
      "source": [
        "import numpy as np\n",
        "import matplotlib.pyplot as plt"
      ]
    },
    {
      "cell_type": "code",
      "source": [
        "vol_pyramid = sym.lambdify((a,b,c),V)"
      ],
      "metadata": {
        "id": "0mRWjIAxoqJQ"
      },
      "execution_count": null,
      "outputs": []
    },
    {
      "cell_type": "code",
      "source": [
        "quad_pyramid = sym.lambdify((a,b,c,N), Vn)"
      ],
      "metadata": {
        "id": "ExEbjE29oup7"
      },
      "execution_count": null,
      "outputs": []
    },
    {
      "cell_type": "code",
      "source": [
        "'''\n",
        "구간 갯수 N의 리스트\n",
        "'''\n",
        "Ns = np.arange(1,6)\n",
        "Ns"
      ],
      "metadata": {
        "colab": {
          "base_uri": "https://localhost:8080/"
        },
        "id": "_65ZdT35RCdJ",
        "outputId": "f169e3c0-d8af-4abb-e280-18bb36656cc4"
      },
      "execution_count": null,
      "outputs": [
        {
          "output_type": "execute_result",
          "data": {
            "text/plain": [
              "array([1, 2, 3, 4, 5])"
            ]
          },
          "metadata": {},
          "execution_count": 11
        }
      ]
    },
    {
      "cell_type": "code",
      "source": [
        "'''\n",
        "N의 역수 h=1/N의 리스트\n",
        "'''\n",
        "hs=1.0/Ns\n",
        "hs"
      ],
      "metadata": {
        "colab": {
          "base_uri": "https://localhost:8080/"
        },
        "id": "yZjAg7RpRINJ",
        "outputId": "ce782323-cebc-4de6-a005-2d44259752fb"
      },
      "execution_count": null,
      "outputs": [
        {
          "output_type": "execute_result",
          "data": {
            "text/plain": [
              "array([1.        , 0.5       , 0.33333333, 0.25      , 0.2       ])"
            ]
          },
          "metadata": {},
          "execution_count": 12
        }
      ]
    },
    {
      "cell_type": "code",
      "source": [
        "'''\n",
        "구간 갯수 N에 대한 구적값 V의 리스트\n",
        "'''\n",
        "\n",
        "a0,b0,c0 = 1,1,1\n",
        "Vs = [quad_pyramid(a0,b0,c0,N) for N in Ns]\n",
        "Vs"
      ],
      "metadata": {
        "colab": {
          "base_uri": "https://localhost:8080/"
        },
        "id": "JQD6cZlNRKxt",
        "outputId": "e320de40-82c1-4bc7-a2a0-9baba6dd4b59"
      },
      "execution_count": null,
      "outputs": [
        {
          "output_type": "execute_result",
          "data": {
            "text/plain": [
              "[1.0, 0.625, 0.5185185185185186, 0.46875, 0.4400000000000001]"
            ]
          },
          "metadata": {},
          "execution_count": 13
        }
      ]
    },
    {
      "cell_type": "code",
      "source": [
        "'''\n",
        "hs와 Vs를 다항식으로 피팅한 계수 리스트를 구하여 pc에 저장합니다.\n",
        "(pc: polynomial coefficients에서 머리글자를 따옴)\n",
        "'''\n",
        "pc = np.polyfit(hs,Vs,4)\n",
        "pc"
      ],
      "metadata": {
        "colab": {
          "base_uri": "https://localhost:8080/"
        },
        "id": "wpGlYWtmSrUD",
        "outputId": "4ed0ea38-a66b-4419-ad9b-245d16e49e0c"
      },
      "execution_count": null,
      "outputs": [
        {
          "output_type": "execute_result",
          "data": {
            "text/plain": [
              "array([ 2.57174375e-13, -5.19329032e-13,  1.66666667e-01,  5.00000000e-01,\n",
              "        3.33333333e-01])"
            ]
          },
          "metadata": {},
          "execution_count": 14
        }
      ]
    },
    {
      "cell_type": "code",
      "source": [
        "'''\n",
        "계수 리스트 pc를 이용해 다항함수 Vf를 만들어줍니다.\n",
        "'''\n",
        "Vf = np.poly1d(pc)\n",
        "print(Vf)"
      ],
      "metadata": {
        "colab": {
          "base_uri": "https://localhost:8080/"
        },
        "id": "BW9P8lkYS5Cn",
        "outputId": "4def0af3-bb98-410a-8c1c-cd0e5a1b14db"
      },
      "execution_count": null,
      "outputs": [
        {
          "output_type": "stream",
          "name": "stdout",
          "text": [
            "           4             3          2\n",
            "2.572e-13 x - 5.193e-13 x + 0.1667 x + 0.5 x + 0.3333\n"
          ]
        }
      ]
    },
    {
      "cell_type": "code",
      "source": [
        "'''\n",
        "다항함수 Vf를 그래프로 그려보기 위해 h의 적절한 구간에 대한 배열을 생성해 준다\n",
        "'''\n",
        "hd = np.linspace(-.2, 1.2, 101)"
      ],
      "metadata": {
        "id": "-qR8t0EfTCgs"
      },
      "execution_count": null,
      "outputs": []
    },
    {
      "cell_type": "code",
      "source": [
        "'''\n",
        "Vf의 치역 Vd를 생성해 준다\n",
        "'''\n",
        "Vd = Vf(hd)"
      ],
      "metadata": {
        "id": "eWA_IYIMTMgP"
      },
      "execution_count": null,
      "outputs": []
    },
    {
      "cell_type": "markdown",
      "source": [
        "## 외삽법 적용"
      ],
      "metadata": {
        "id": "3HPQ-dUsWYQz"
      }
    },
    {
      "cell_type": "markdown",
      "source": [
        "이제 Vf()를 $h\\rightarrow 0$인 경우에 대해 외삽해 봅시다."
      ],
      "metadata": {
        "id": "tYnUr_1-VE7v"
      }
    },
    {
      "cell_type": "code",
      "source": [
        "'''\n",
        "h -> 0 일 대의 외삽값\n",
        "'''\n",
        "Vf(0)"
      ],
      "metadata": {
        "colab": {
          "base_uri": "https://localhost:8080/"
        },
        "id": "44HIka5QTm7m",
        "outputId": "a4777e24-c7d3-42b4-9393-960b432baa15"
      },
      "execution_count": null,
      "outputs": [
        {
          "output_type": "execute_result",
          "data": {
            "text/plain": [
              "0.3333333333333419"
            ]
          },
          "metadata": {},
          "execution_count": 18
        }
      ]
    },
    {
      "cell_type": "code",
      "source": [
        "'''\n",
        "Polynomial Fit: 피팅 함수\n",
        "Quadruture:     구적값 목록\n",
        "Extrapolation:  외삽값\n",
        "을 h에 대해 그래프로 그려 본다:\n",
        "'''\n",
        "plt.plot(hd, Vd,color=\"cyan\")\n",
        "plt.plot(hs,Vs,\"k.\")\n",
        "plt.plot([0],[Vf(0)],\"ro\")\n",
        "plt.legend([\"Polynomial Fit\",\"Quadrature\",\"Extrapolation\"])\n",
        "plt.xlabel(\"h\")\n",
        "plt.ylabel(\"volume\")\n",
        "plt.grid()"
      ],
      "metadata": {
        "colab": {
          "base_uri": "https://localhost:8080/",
          "height": 449
        },
        "id": "Y-Jcly8oTPXu",
        "outputId": "47cfd64d-5b6f-4780-d854-a05be478ff53"
      },
      "execution_count": null,
      "outputs": [
        {
          "output_type": "display_data",
          "data": {
            "text/plain": [
              "<Figure size 640x480 with 1 Axes>"
            ],
            "image/png": "[encoded data removed]"
          },
          "metadata": {}
        }
      ]
    },
    {
      "cell_type": "code",
      "source": [
        "'''\n",
        "참값을 수치로 구하여 Vt에 저장\n",
        "'''\n",
        "Vt = vol_pyramid(a0,b0,c0)\n",
        "Vt"
      ],
      "metadata": {
        "colab": {
          "base_uri": "https://localhost:8080/"
        },
        "id": "xttCxVMYTth4",
        "outputId": "52315f90-bd2c-464a-8184-9a2137cf1c78"
      },
      "execution_count": null,
      "outputs": [
        {
          "output_type": "execute_result",
          "data": {
            "text/plain": [
              "0.3333333333333333"
            ]
          },
          "metadata": {},
          "execution_count": 20
        }
      ]
    },
    {
      "cell_type": "markdown",
      "source": [
        "상대오차는 참값에 대한 근삿값과 참값의 차이의 비로 구할 수 있습니다:\n",
        "\n",
        "$\\mathrm{상대오차}=\\dfrac{\\mathrm{근삿값}-{\\mathrm{참값}}}{\\mathrm{참값}}$"
      ],
      "metadata": {
        "id": "CNF4-WwcYtzk"
      }
    },
    {
      "cell_type": "code",
      "source": [
        "'''\n",
        "상대오차\n",
        "'''\n",
        "print(f\"Relative Error = {(Vf(0)-Vt)/Vt:.2g}.\")"
      ],
      "metadata": {
        "colab": {
          "base_uri": "https://localhost:8080/"
        },
        "id": "usjTGMUUUGI6",
        "outputId": "8d4ea15f-c990-47a0-8e8e-041f8ce5f9aa"
      },
      "execution_count": null,
      "outputs": [
        {
          "output_type": "stream",
          "name": "stdout",
          "text": [
            "Relative Error = 2.6e-14.\n"
          ]
        }
      ]
    },
    {
      "cell_type": "code",
      "source": [],
      "metadata": {
        "id": "XlTU5I7NAg-O"
      },
      "execution_count": null,
      "outputs": []
    },
    {
      "cell_type": "markdown",
      "source": [
        "앞에서는 구적법으로 구한 부피가 실제 V보다 큰 값에서 h가 0으로 가는 극한을 살펴봤는데요, 이번에는 V보다 작은 값쪽에서 다가가는 경우도 살펴보겠습니다.\n",
        "\n",
        "<img src=\"https://drive.google.com/uc?id=1QL2j-Gweg3J5AK9DJ8TGiW2iT1cuxwPU\" width=350 height=300>\n",
        "\n",
        "k 값을 1부터 N까지 옮겨가며 구적법을 적용하면 되는데요, 즉\n",
        "$$V(h_{-})=\\sum_{k=1}^{N} abc(1-hk)^2 h$$라 하고, 앞에서 구한 값은 $$V(h_{+})=\\sum_{k=0}^{N-1} abc(1-kh)^2 h$$라 하겠습니다."
      ],
      "metadata": {
        "id": "HjAeFKOSiYgE"
      }
    },
    {
      "cell_type": "code",
      "source": [
        "Vs_pos = Vs\n",
        "\n",
        "Vn_neg = sym.Sum(Vk,(k,1,N))\n",
        "Vn_neg"
      ],
      "metadata": {
        "colab": {
          "base_uri": "https://localhost:8080/",
          "height": 70
        },
        "id": "0r3znUAcARsX",
        "outputId": "7922abcf-1318-4abb-a9e5-c9b0f55d6fb7"
      },
      "execution_count": null,
      "outputs": [
        {
          "output_type": "execute_result",
          "data": {
            "text/plain": [
              "Sum(a*b*c*(1 - k/N)**2/N, (k, 1, N))"
            ],
            "text/latex": "$\\displaystyle \\sum_{k=1}^{N} \\frac{a b c \\left(1 - \\frac{k}{N}\\right)^{2}}{N}$"
          },
          "metadata": {},
          "execution_count": 41
        }
      ]
    },
    {
      "cell_type": "code",
      "source": [
        "VN_neg = Vn_neg.doit().expand()\n",
        "VN_neg"
      ],
      "metadata": {
        "colab": {
          "base_uri": "https://localhost:8080/",
          "height": 52
        },
        "id": "mJ_JUXAyAmLK",
        "outputId": "cb1bf876-3e2b-4141-aa3a-76e0a5d6d18c"
      },
      "execution_count": null,
      "outputs": [
        {
          "output_type": "execute_result",
          "data": {
            "text/plain": [
              "a*b*c/3 - a*b*c/(2*N) + a*b*c/(6*N**2)"
            ],
            "text/latex": "$\\displaystyle \\frac{a b c}{3} - \\frac{a b c}{2 N} + \\frac{a b c}{6 N^{2}}$"
          },
          "metadata": {},
          "execution_count": 42
        }
      ]
    },
    {
      "cell_type": "code",
      "source": [
        "quad_pyramid_neg = sym.lambdify((a,b,c,N), VN_neg)\n",
        "\n",
        "Vs_neg = [quad_pyramid_neg(a0,b0,c0,N) for N in Ns]\n",
        "Vs_neg"
      ],
      "metadata": {
        "id": "dm08FHycUS_i",
        "colab": {
          "base_uri": "https://localhost:8080/"
        },
        "outputId": "565e7e85-3d17-4620-be2a-44980a7c9c73"
      },
      "execution_count": null,
      "outputs": [
        {
          "output_type": "execute_result",
          "data": {
            "text/plain": [
              "[-2.7755575615628914e-17,\n",
              " 0.12499999999999997,\n",
              " 0.18518518518518517,\n",
              " 0.21874999999999997,\n",
              " 0.23999999999999996]"
            ]
          },
          "metadata": {},
          "execution_count": 46
        }
      ]
    },
    {
      "cell_type": "code",
      "source": [
        "pc_neg =np.polyfit(hs, Vs_neg,4)\n",
        "pc_neg"
      ],
      "metadata": {
        "colab": {
          "base_uri": "https://localhost:8080/"
        },
        "id": "wRJqhvBqk4lx",
        "outputId": "cbb4e704-6be1-4fb2-fab3-a90481c61440"
      },
      "execution_count": null,
      "outputs": [
        {
          "output_type": "execute_result",
          "data": {
            "text/plain": [
              "array([ 5.73748078e-14, -1.16947583e-13,  1.66666667e-01, -5.00000000e-01,\n",
              "        3.33333333e-01])"
            ]
          },
          "metadata": {},
          "execution_count": 47
        }
      ]
    },
    {
      "cell_type": "code",
      "source": [
        "Vf_neg=np.poly1d(pc_neg)\n",
        "print(Vf_neg)"
      ],
      "metadata": {
        "colab": {
          "base_uri": "https://localhost:8080/"
        },
        "id": "t4cXHI-wlFj5",
        "outputId": "84ae6dcf-5ae1-4587-a50e-61421043b222"
      },
      "execution_count": null,
      "outputs": [
        {
          "output_type": "stream",
          "name": "stdout",
          "text": [
            "           4             3          2\n",
            "5.737e-14 x - 1.169e-13 x + 0.1667 x - 0.5 x + 0.3333\n"
          ]
        }
      ]
    },
    {
      "cell_type": "code",
      "source": [
        "Vd_neg = Vf_neg(hd)"
      ],
      "metadata": {
        "id": "zMhlHYtgmo-9"
      },
      "execution_count": null,
      "outputs": []
    },
    {
      "cell_type": "code",
      "source": [
        "'''\n",
        "h -> 0 일 때의 외삽값\n",
        "'''\n",
        "Vfn=Vf_neg(0)\n",
        "Vfn"
      ],
      "metadata": {
        "colab": {
          "base_uri": "https://localhost:8080/"
        },
        "id": "8aspFHXQlOkm",
        "outputId": "3abf7145-1567-405b-af02-7048a22a016c"
      },
      "execution_count": null,
      "outputs": [
        {
          "output_type": "execute_result",
          "data": {
            "text/plain": [
              "0.3333333333333352"
            ]
          },
          "metadata": {},
          "execution_count": 50
        }
      ]
    },
    {
      "cell_type": "code",
      "source": [
        "plt.plot(hd, Vd, color=\"pink\")\n",
        "plt.plot(hs,Vs_pos,\"k.\")\n",
        "plt.plot([0],[Vf(0)],\"ro\")\n",
        "plt.plot(hd, Vd_neg,color=\"cyan\")\n",
        "plt.plot(hs,Vs_neg,\"k.\")\n",
        "plt.plot([0],[Vf_neg(0)],\"bo\")\n",
        "plt.title(f\"Volume of a Pyramid; a={a0:.2f},b={b0:.2f},c={c0:.2f}\")\n",
        "plt.legend([\"Polynomial Fit(+)\",\"Quadrature(+)\",\"Extrapolation(+)\",\"Polynomial Fit(-)\",\"Quadrature(-)\",\"Extrapolation(-)\"])\n",
        "plt.xlabel(\"h\")\n",
        "plt.ylabel(\"volume\")\n",
        "plt.grid()"
      ],
      "metadata": {
        "colab": {
          "base_uri": "https://localhost:8080/",
          "height": 472
        },
        "id": "kj4HEPQZlVDr",
        "outputId": "5f6a14c9-04d7-4b87-ee5c-5d1b4f132e1d"
      },
      "execution_count": null,
      "outputs": [
        {
          "output_type": "display_data",
          "data": {
            "text/plain": [
              "<Figure size 640x480 with 1 Axes>"
            ],
            "image/png": "[encoded data removed]"
          },
          "metadata": {}
        }
      ]
    },
    {
      "cell_type": "code",
      "source": [
        "'''\n",
        "참값 (Vt)에 대한 상대오차\n",
        "'''\n",
        "print(f\"Relative Error(-) = {(Vfn-Vt)/Vt:.2g}.\")"
      ],
      "metadata": {
        "colab": {
          "base_uri": "https://localhost:8080/"
        },
        "id": "KSaoVMdqmLnX",
        "outputId": "addb33a4-7ef3-44b2-9398-126e0dd1e93f"
      },
      "execution_count": null,
      "outputs": [
        {
          "output_type": "stream",
          "name": "stdout",
          "text": [
            "Relative Error(-) = 5.7e-15.\n"
          ]
        }
      ]
    },
    {
      "cell_type": "markdown",
      "source": [
        "구분구적법으로 참값에 가까워질 정도로 구간을 세밀하게 쪼개지 못했어도, 구간값의 변화에 따른 계산값의 변화 추이로부터 다항식 근사를 하고, 이를 바탕으로 외삽법을 이용하면 참값에 근접한 값을 얻을 수 있음을 알 수 있습니다.\n"
      ],
      "metadata": {
        "id": "JFqhX_q8Wty5"
      }
    }
  ]
}