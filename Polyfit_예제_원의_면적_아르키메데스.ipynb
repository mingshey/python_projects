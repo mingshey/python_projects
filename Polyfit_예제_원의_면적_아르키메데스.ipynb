{
  "nbformat": 4,
  "nbformat_minor": 0,
  "metadata": {
    "colab": {
      "provenance": [],
      "authorship_tag": "ABX9TyN4fRYzpJwBykTj1lWO+UAr",
      "include_colab_link": true
    },
    "kernelspec": {
      "name": "python3",
      "display_name": "Python 3"
    },
    "language_info": {
      "name": "python"
    }
  },
  "cells": [
    {
      "cell_type": "markdown",
      "metadata": {
        "id": "view-in-github",
        "colab_type": "text"
      },
      "source": [
        "<a href=\"https://colab.research.google.com/github/mingshey/python_projects/blob/main/Polyfit_%EC%98%88%EC%A0%9C_%EC%9B%90%EC%9D%98_%EB%A9%B4%EC%A0%81_%EC%95%84%EB%A5%B4%ED%82%A4%EB%A9%94%EB%8D%B0%EC%8A%A4.ipynb\" target=\"_parent\"><img src=\"https://colab.research.google.com/assets/colab-badge.svg\" alt=\"Open In Colab\"/></a>"
      ]
    },
    {
      "cell_type": "markdown",
      "source": [
        "**Polyfit 예제3 - 원의 면적**"
      ],
      "metadata": {
        "id": "SzGd8DTxOQgP"
      }
    },
    {
      "cell_type": "markdown",
      "source": [
        "Archimedes 방법으로 원의 면적 구하기.\n",
        "\n",
        "<img src=\"https://drive.google.com/uc?id=1q1SbpSc3dXAIcPTQi4Z1WTVO79HCXnO1\"\n",
        " height=300 width=300 >  <img src=\"https://drive.google.com/uc?id=1pEZgiQwvrNu8ZwJOWaHz-OPTbqSc8pTy\"\n",
        " height=300 width=300 >\n",
        "\n",
        "아르키메데스의 방식을 따라 원의 면적의 근삿값을 구해 보겠습니다. 먼저 주어진 원의 중심각을 6등분하는 직선들을 작도합니다.\n",
        "이 직선들이 원을 자르며 지나가는 점들을 찾고, 이 점들을 연결한 현들로 둘러싸인 내접(inscribing) 정육각형을 작도합니다.\n",
        "다음으로, 위의 현들에 평행한 접선들로 둘러싸인 외접(circumscribing) 정육각형을 작도합니다.\n",
        "내접 정육각형의 면적을 $A_{0}$, 외접 정육각형의 면적을 $B_{0}$라 놓은 다음, 중심각을 차례로 2등분해 나가며 원의 면적의 근삿값을 몇 차례 구하고, 외삽법을 이용하여 $n$이 무한대가 될 때의 값을 추측할 계획입니다.\n",
        "\n",
        "반지름 $R$인 원의 중심각을 $n=6\\times 2^{k}$ 등분한 부채꼴 중 하나에서 반지름과 현으로 둘러싸인 삼각형 한 개의 넓이를 $A_{k}$, 이 삼각형에서 현의 길이의 $\\dfrac{1}{2}$을 $S_{k}$이라 하고, 원의 중심에서 현의 중심을 잇는 선분의 길이를 $C_{k}$이라 하면\n",
        "$$ A_{k} = C_{k}\\times S_{k} $$ 이고, 이 삼각형들의 넓이의 합, 즉 내접 정다각형의 면적은 $n A_{k}$ 입니다.\n",
        "\n",
        "다른 한 편, 반지름의 연장선과 접선으로 둘러싸인 삼각형 한 개의 넓이를 $B_{k}$라 합니다. 접선이 반지름의 연장선을 길이 $X_{k}$로 잘라낸다고 하고, 반지름의 연장선은 이 접선을 접점으로부터 길이 $T_{k}$가 되도록 자른다고 하면 이웃한 두 반지름의 연장선 사이에 낀 삼각형 하나의 면적은 $$B_{k} = R \\times T_{k}$$이며, 외접다각형 전체의 면적은 $n B_{k}$입니다.\n",
        "\n",
        "중심각을 1번 더 2등분하면 각각의 내접 삼각형에 덧붙여져 증가된 면적은 $$ \\Delta A_{k} = A_{k+1}-A_{k}=(R-C_{k})\\times S_{k} $$이고, 전체 면적 증가는 $n\\Delta A_{k}$입니다.\n",
        "\n",
        "반면, 외접 다각형의 꼭지점 근처에서 잘려나간 삼각형의 면적은 $$-\\Delta B_{k} = (X_{k}-R)\\times T_{k+1}$$인데, 여기서 $$T_{k+1} = \\dfrac{R(X_{k}-R)}{T_{k}}$$이고, 외접 다각형의 총 면적 변화는 $ n \\Delta B_{k}$입니다.\n",
        "\n",
        "내접 삼각형의 다음 번 증가분, 즉 $\\Delta A_{k+1}$의 반복계산에 사용할 $S_{k+1}$과 $C_{k+1}$은 각각\n",
        "$$\\begin{align}\n",
        "S_{k+1} &= \\dfrac{1}{2}\\sqrt{(R-C_{k})^2+S_{k}^2},\\\\[10pt]\n",
        "C_{k+1}&=\\sqrt{R^2-S_{k+1}^2}.\n",
        "\\end{align}\n",
        "$$\n",
        "이고, 외접 삼각형의 다음 번 감소분 계산에 사용할 $X_{k+1}$, $T_{k+1}$은 각각\n",
        "$$\\begin{align}\n",
        "T_{k+1}&= \\dfrac{R(X_{k}-R)}{T_{k}},\\\\[10pt]\n",
        "X_{k+1}&=\\sqrt{R^2+T_{k+1}^2}.\n",
        "\\end{align}\n",
        "$$입니다.\n",
        "\n",
        "반복 계산을 무한히 계속하면 내접다각형과 외접다각형은 각각 원의 면적에 수렴할 것으로 기대되지만, 우리는 컴퓨터가 무한 번의 계산을 마칠 때까지 기다릴 수 없으므로 몇 개의 $k$에 대하여 $k$번째 단계에서 구한 면적을 $x=6/n$의 함수 $A(x)$, $B(x)$로 간주하고 그것을 다항함수 $PFA(x)$, $PFB(x)$로 근사한 다음, $k\\rightarrow\\infty$, 즉 $x\\rightarrow 0$일 때의 극한값을 $PFA(0)$, $PFB(0)$의 값으로 근사하여 구합니다."
      ],
      "metadata": {
        "id": "yom_mBqAsrZO"
      }
    },
    {
      "cell_type": "code",
      "execution_count": null,
      "metadata": {
        "id": "GRwbuG0psoU0"
      },
      "outputs": [],
      "source": [
        "import numpy as np\n",
        "import matplotlib.pyplot as plt"
      ]
    },
    {
      "cell_type": "code",
      "source": [
        "R=1\n",
        "x=[1.0]\n",
        "S =1/2*R\n",
        "C=np.sqrt(3)/2*R\n",
        "T=R/np.sqrt(3)\n",
        "X=np.sqrt(R**2+T**2)\n",
        "n=[6]\n",
        "A = [n[-1]*C*S]\n",
        "B = [n[-1]*R*T]\n",
        "\n",
        "for k in range(10):\n",
        "  x.append(x[-1]/2)\n",
        "  V=R-C\n",
        "  W=X-R\n",
        "  DA = V*S\n",
        "  T = R*W/T\n",
        "  DB = -W*T\n",
        "  A.append(A[-1]+n[-1]*DA)\n",
        "  B.append(B[-1]+n[-1]*DB)\n",
        "  S=np.sqrt(V**2 + S**2)/2\n",
        "  C=np.sqrt(R**2 - S**2)\n",
        "  X=np.sqrt(R**2+T**2)\n",
        "  n.append(2*n[-1])\n",
        "k"
      ],
      "metadata": {
        "id": "-G54D2sfG4pd",
        "colab": {
          "base_uri": "https://localhost:8080/"
        },
        "outputId": "d1081d6f-49a9-48ff-ba22-5b61c06ccf45"
      },
      "execution_count": null,
      "outputs": [
        {
          "output_type": "execute_result",
          "data": {
            "text/plain": [
              "9"
            ]
          },
          "metadata": {},
          "execution_count": 2
        }
      ]
    },
    {
      "cell_type": "code",
      "source": [
        "x"
      ],
      "metadata": {
        "colab": {
          "base_uri": "https://localhost:8080/"
        },
        "id": "CclYXT6qJGgI",
        "outputId": "76c4256a-586e-47a1-9826-a2f217312785"
      },
      "execution_count": null,
      "outputs": [
        {
          "output_type": "execute_result",
          "data": {
            "text/plain": [
              "[1.0,\n",
              " 0.5,\n",
              " 0.25,\n",
              " 0.125,\n",
              " 0.0625,\n",
              " 0.03125,\n",
              " 0.015625,\n",
              " 0.0078125,\n",
              " 0.00390625,\n",
              " 0.001953125,\n",
              " 0.0009765625]"
            ]
          },
          "metadata": {},
          "execution_count": 3
        }
      ]
    },
    {
      "cell_type": "code",
      "source": [
        "n"
      ],
      "metadata": {
        "colab": {
          "base_uri": "https://localhost:8080/"
        },
        "id": "0V-hfYxTJONi",
        "outputId": "d577ea1d-97b5-4556-db34-c7ea66b39f23"
      },
      "execution_count": null,
      "outputs": [
        {
          "output_type": "execute_result",
          "data": {
            "text/plain": [
              "[6, 12, 24, 48, 96, 192, 384, 768, 1536, 3072, 6144]"
            ]
          },
          "metadata": {},
          "execution_count": 5
        }
      ]
    },
    {
      "cell_type": "code",
      "source": [
        "A"
      ],
      "metadata": {
        "colab": {
          "base_uri": "https://localhost:8080/"
        },
        "id": "Iqnn_j7_JRTx",
        "outputId": "22c038f5-816c-4d88-8be9-25b6a3a99dd9"
      },
      "execution_count": null,
      "outputs": [
        {
          "output_type": "execute_result",
          "data": {
            "text/plain": [
              "[2.598076211353316,\n",
              " 3.0,\n",
              " 3.105828541230249,\n",
              " 3.132628613281238,\n",
              " 3.139350203046867,\n",
              " 3.1410319508905093,\n",
              " 3.1414524722854615,\n",
              " 3.141557607911857,\n",
              " 3.141583892148318,\n",
              " 3.14159046322805,\n",
              " 3.1415921059992713]"
            ]
          },
          "metadata": {},
          "execution_count": 6
        }
      ]
    },
    {
      "cell_type": "code",
      "source": [
        "B"
      ],
      "metadata": {
        "colab": {
          "base_uri": "https://localhost:8080/"
        },
        "id": "x61dYd912RuK",
        "outputId": "0b234074-871f-42ed-8b66-81bc0bcd3fe3"
      },
      "execution_count": null,
      "outputs": [
        {
          "output_type": "execute_result",
          "data": {
            "text/plain": [
              "[3.4641016151377553,\n",
              " 3.215390309173473,\n",
              " 3.1596599420975005,\n",
              " 3.146086215131435,\n",
              " 3.142714599645368,\n",
              " 3.1418730499798233,\n",
              " 3.141662747056848,\n",
              " 3.141610176604689,\n",
              " 3.1415970343215256,\n",
              " 3.1415937487713514,\n",
              " 3.141592927385096]"
            ]
          },
          "metadata": {},
          "execution_count": 7
        }
      ]
    },
    {
      "cell_type": "code",
      "source": [
        "\"\"\"\n",
        "마지막으로 구한 면적 값과 실제 원의 면적과의 상대 오차:\n",
        "\"\"\"\n",
        "print(f\"Relative error of A[{k}]= {(A[-1]-np.pi*R**2)/np.pi:.2g}\")\n",
        "print(f\"Relative error of B[{k}]= {(B[-1]-np.pi*R**2)/np.pi:.2g}\")"
      ],
      "metadata": {
        "colab": {
          "base_uri": "https://localhost:8080/"
        },
        "id": "lU7hPn6qOjmW",
        "outputId": "b98119bf-2538-400d-932a-ffac4d1410a6"
      },
      "execution_count": null,
      "outputs": [
        {
          "output_type": "stream",
          "name": "stdout",
          "text": [
            "Relative error of A[9]= -1.7e-07\n",
            "Relative error of B[9]= 8.7e-08\n"
          ]
        }
      ]
    },
    {
      "cell_type": "markdown",
      "source": [
        "예측할 수 있는 바 대로, A의 값은 원의 면적에 비해 작은 쪽에서, B의 값은 큰 쪽에서 원의 면적에 다가가고 있음을 볼 수 있습니다."
      ],
      "metadata": {
        "id": "oZsYfbLHfaWN"
      }
    },
    {
      "cell_type": "code",
      "source": [
        "\"\"\"\n",
        "다항식 맞춤 계수\n",
        "Polynomial Fitting Coefficients\n",
        "\"\"\"\n",
        "pcA = np.polyfit(x, A, k)\n",
        "pcB = np.polyfit(x, B, k)\n",
        "print(pcA)\n",
        "print(pcB)"
      ],
      "metadata": {
        "colab": {
          "base_uri": "https://localhost:8080/"
        },
        "id": "guBfOpizJjxb",
        "outputId": "d83330d5-f9c2-43ef-c4ad-af7d8dee70ae"
      },
      "execution_count": null,
      "outputs": [
        {
          "output_type": "stream",
          "name": "stdout",
          "text": [
            "[ 2.67360949e-04 -5.19791874e-04  3.51303962e-04 -9.20362160e-04\n",
            "  1.25746528e-05  3.14827615e-02  1.98314868e-08 -5.74190309e-01\n",
            "  7.23779204e-13  3.14159265e+00]\n",
            "[ 4.33896928e-04 -3.43744180e-04  4.56290460e-04  3.36897790e-03\n",
            "  1.57898303e-05  3.14825712e-02  2.52884894e-08  2.87095154e-01\n",
            "  1.31093189e-12  3.14159265e+00]\n"
          ]
        }
      ]
    },
    {
      "cell_type": "code",
      "source": [
        "\"\"\"\n",
        "다항식 맞춤 함수\n",
        "\"\"\"\n",
        "pfA = np.poly1d(pcA)\n",
        "pfB = np.poly1d(pcB)\n",
        "print(f\"pfA(x) = \\n{pfA}\\n\")\n",
        "print(f\"pfB(x) = \\n{pfB}\\n\")"
      ],
      "metadata": {
        "colab": {
          "base_uri": "https://localhost:8080/"
        },
        "id": "a8YC-Sq3KB_S",
        "outputId": "e5b90405-05a4-4182-f316-ec732009bce4"
      },
      "execution_count": null,
      "outputs": [
        {
          "output_type": "stream",
          "name": "stdout",
          "text": [
            "pfA(x) = \n",
            "           9             8             7             6             5\n",
            "0.0002674 x - 0.0005198 x + 0.0003513 x - 0.0009204 x + 1.257e-05 x\n",
            "            4             3          2\n",
            " + 0.03148 x + 1.983e-08 x - 0.5742 x + 7.238e-13 x + 3.142\n",
            "\n",
            "pfB(x) = \n",
            "           9             8             7            6             5\n",
            "0.0004339 x - 0.0003437 x + 0.0004563 x + 0.003369 x + 1.579e-05 x\n",
            "            4             3          2\n",
            " + 0.03148 x + 2.529e-08 x + 0.2871 x + 1.311e-12 x + 3.142\n",
            "\n"
          ]
        }
      ]
    },
    {
      "cell_type": "code",
      "source": [
        "xs = np.linspace(-0.2,1.2,100)\n",
        "yAs = pfA(xs)\n",
        "yBs = pfB(xs)"
      ],
      "metadata": {
        "id": "NcjMr88hKE6L"
      },
      "execution_count": null,
      "outputs": []
    },
    {
      "cell_type": "code",
      "source": [
        "pfA(0), pfB(0)"
      ],
      "metadata": {
        "colab": {
          "base_uri": "https://localhost:8080/"
        },
        "id": "cOvWQqkjLSj9",
        "outputId": "e7fb0537-7131-4ba2-b71e-565fa749fd54"
      },
      "execution_count": null,
      "outputs": [
        {
          "output_type": "execute_result",
          "data": {
            "text/plain": [
              "(3.141592653589795, 3.141592653589795)"
            ]
          },
          "metadata": {},
          "execution_count": 12
        }
      ]
    },
    {
      "cell_type": "code",
      "source": [
        "Ref=np.pi*R**2\n",
        "print(f\"Relative Error of pfA(0)= {(pfA(0)-Ref)/Ref:.2g}\")\n",
        "print(f\"Relative Error of pfB(0)= {(pfB(0)-Ref)/Ref:.2g}\")"
      ],
      "metadata": {
        "colab": {
          "base_uri": "https://localhost:8080/"
        },
        "id": "NLRblyc3K-fo",
        "outputId": "324b6881-b64d-4e9f-ea20-91070a4998d4"
      },
      "execution_count": null,
      "outputs": [
        {
          "output_type": "stream",
          "name": "stdout",
          "text": [
            "Relative Error of pfA(0)= 5.7e-16\n",
            "Relative Error of pfB(0)= 5.7e-16\n"
          ]
        }
      ]
    },
    {
      "cell_type": "markdown",
      "source": [
        "내접다각형과 외접다각형이 직접 계산할 때는 원의 면적보다 작은 쪽과 큰 쪽에서 각각 수렴하지만, 외삽법을 적용했을 때는 같은 방향으로 편향된 외삽값을 주는 것을 볼 수 있습니다. 따라서 두 값을 평균한다고 해도 더 좋은 근삿값을 구할 수는 없겠습니다."
      ],
      "metadata": {
        "id": "_GO1s8yC-w-e"
      }
    },
    {
      "cell_type": "code",
      "source": [
        "plt.plot(xs,yAs,color=\"cyan\")\n",
        "plt.plot(xs,yBs,color=\"pink\")\n",
        "plt.plot(x,A,\".\",color=\"navy\")\n",
        "plt.plot(x,B,\".\",color=\"brown\")\n",
        "plt.plot([0],[pfA(0)],\"bo\")\n",
        "plt.plot([0],[pfB(0)],\"ro\")\n",
        "plt.grid()\n",
        "plt.xlabel(\"6/n\")\n",
        "plt.ylabel(\"Area\")\n",
        "plt.legend([\"Polynomial Fit(IS)\",\"Polynomial Fit(CS)\",\"Archimedean Quadrature(IS)\",\"Archimedean Quadrature(CS)\",\"Extrapolation(IS)\",\"Extrapolation(CS)\"])\n",
        "plt.title(f\"Area of a Circle; R={R:.2g}\")"
      ],
      "metadata": {
        "colab": {
          "base_uri": "https://localhost:8080/",
          "height": 490
        },
        "id": "GAqp0a6IKfIY",
        "outputId": "afc4beec-a027-45da-d5d3-eed61ad50700"
      },
      "execution_count": null,
      "outputs": [
        {
          "output_type": "execute_result",
          "data": {
            "text/plain": [
              "Text(0.5, 1.0, 'Area of a Circle; R=1')"
            ]
          },
          "metadata": {},
          "execution_count": 14
        },
        {
          "output_type": "display_data",
          "data": {
            "text/plain": [
              "<Figure size 640x480 with 1 Axes>"
            ],
            "image/png": "[encoded data removed]"
          },
          "metadata": {}
        }
      ]
    },
    {
      "cell_type": "markdown",
      "source": [
        "현대에 와서는 Chudnovsky 알고리즘 등을 이용하여 $\\pi$의 값을 수십억 자리까지 구할 수 있으니 원의 면적이나 $\\pi$ 값을 구하는 방법으로서는 위 방법이 그다지 인상적이지 않을 수도 있습니다. 그러나 여기서는 직접 계산에 의한 값보다 훨씬 정밀한 값을 외삽법에 의하여 구할 수 있다는 점에 주목하기 바랍니다. 직접 계산에 의하면 아르키메데스의 방법으로 $\\pi$ 값을 소숫점 아래 6짜리까지 정확하게 구할 수 있는 데 비해, 같은 결과를 가지고 외삽법을 사용하여 정확한 자릿수를 2배 이상 증가시킬 수 있었습니다. 직접 계산에만 의존했다면 훨씬 많은 횟수의 계산이 필요했을 것입니다. 컴퓨터로는 직접 다룰 수 없는 극한 값을 외삽법을 이용하여 상당한 정확도로 추측할 수 있다는 것이 외삽법의 장점입니다.\n",
        "물론 극한값이 없이 발산하는 사례에는 적용하기 어려울 것이므로 외삽법이 만능은 아닐 것이지만, 상당히 많은 분야에 사용할 수 있는 훌륭한 도구임에는 틀림없습니다."
      ],
      "metadata": {
        "id": "_P0eEdNTMLPt"
      }
    },
    {
      "cell_type": "code",
      "source": [],
      "metadata": {
        "id": "VRzqAbCkSfhA"
      },
      "execution_count": null,
      "outputs": []
    }
  ]
}