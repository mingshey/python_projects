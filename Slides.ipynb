{
  "nbformat": 4,
  "nbformat_minor": 0,
  "metadata": {
    "colab": {
      "provenance": [],
      "authorship_tag": "ABX9TyMc1UA25pckUiclWC+Uoy77",
      "include_colab_link": true
    },
    "kernelspec": {
      "name": "python3",
      "display_name": "Python 3"
    },
    "language_info": {
      "name": "python"
    }
  },
  "cells": [
    {
      "cell_type": "markdown",
      "metadata": {
        "id": "view-in-github",
        "colab_type": "text"
      },
      "source": [
        "<a href=\"https://colab.research.google.com/github/mingshey/python_projects/blob/main/Slides.ipynb\" target=\"_parent\"><img src=\"https://colab.research.google.com/assets/colab-badge.svg\" alt=\"Open In Colab\"/></a>"
      ]
    },
    {
      "cell_type": "markdown",
      "source": [
        "<img src=\"https://drive.google.com/uc?id=1P-0WNXAvkhKLLcWQzN9ZpPl2IAOyB6sL\" width=360 height=200>\n",
        "\n",
        "대칭 형태의 곡선 경사면을 위로 또는 아래로 향하도록 2개씩 결합하여 만든 미끄럼틀을 따라 미끄러져 내려가는 물체의 속력 변화:\n",
        "\n",
        "<img src=\"https://drive.google.com/uc?id=19AENBD7OLjtRUkMEUyP3jLpomFJZWeYT\"  width=660 height=420>"
      ],
      "metadata": {
        "id": "sEeZAfBWOyIu"
      }
    },
    {
      "cell_type": "code",
      "execution_count": null,
      "metadata": {
        "id": "eW7I0K1si1F7"
      },
      "outputs": [],
      "source": [
        "import sympy as sp\n",
        "import numpy as np\n",
        "import matplotlib.pyplot as plt\n",
        "from scipy.integrate import odeint\n",
        "from math import floor"
      ]
    },
    {
      "cell_type": "markdown",
      "source": [
        "## 1. 경사면의 경로를 매개변수 함수로 표현."
      ],
      "metadata": {
        "id": "s3fmyTi9VzTZ"
      }
    },
    {
      "cell_type": "code",
      "source": [
        "t, a, b, k, g, m, alpha = sp.symbols(r\"t a b k g m alpha\")"
      ],
      "metadata": {
        "id": "qmzztAmDjLJq"
      },
      "execution_count": null,
      "outputs": []
    },
    {
      "cell_type": "code",
      "source": [
        "phi = sp.symbols(r\"\\phi\", cls=sp.Function)\n",
        "phi = phi(t)"
      ],
      "metadata": {
        "id": "K90fj7HGjU9G"
      },
      "execution_count": null,
      "outputs": []
    },
    {
      "cell_type": "code",
      "source": [
        "phidot = sp.diff(phi,t)\n",
        "phiddot = sp.diff(phidot,t)"
      ],
      "metadata": {
        "id": "obFnHNDcnVam"
      },
      "execution_count": null,
      "outputs": []
    },
    {
      "cell_type": "code",
      "source": [
        "phidot"
      ],
      "metadata": {
        "colab": {
          "base_uri": "https://localhost:8080/",
          "height": 52
        },
        "id": "Vz-nRtcSoef2",
        "outputId": "12c241dc-3fe9-41e8-d222-2ef164f8125e"
      },
      "execution_count": null,
      "outputs": [
        {
          "output_type": "execute_result",
          "data": {
            "text/plain": [
              "Derivative(\\phi(t), t)"
            ],
            "text/latex": "$\\displaystyle \\frac{d}{d t} \\phi{\\left(t \\right)}$"
          },
          "metadata": {},
          "execution_count": 5
        }
      ]
    },
    {
      "cell_type": "code",
      "source": [
        "phiddot"
      ],
      "metadata": {
        "colab": {
          "base_uri": "https://localhost:8080/",
          "height": 54
        },
        "id": "JM7tI2LgNKi2",
        "outputId": "89679e6f-fe9d-4171-c8c6-cf750d4331aa"
      },
      "execution_count": null,
      "outputs": [
        {
          "output_type": "execute_result",
          "data": {
            "text/plain": [
              "Derivative(\\phi(t), (t, 2))"
            ],
            "text/latex": "$\\displaystyle \\frac{d^{2}}{d t^{2}} \\phi{\\left(t \\right)}$"
          },
          "metadata": {},
          "execution_count": 6
        }
      ]
    },
    {
      "cell_type": "code",
      "source": [
        "s = a*2*phi + b*sp.sin(2*phi)\n",
        "up = k*b*(1-sp.cos(2*phi))\n",
        "dn = -up"
      ],
      "metadata": {
        "id": "959ifp_DlTcO"
      },
      "execution_count": null,
      "outputs": []
    },
    {
      "cell_type": "code",
      "source": [
        "s"
      ],
      "metadata": {
        "colab": {
          "base_uri": "https://localhost:8080/",
          "height": 38
        },
        "id": "TcMNLI6_NOkB",
        "outputId": "2306517b-4057-4765-c410-e919094f51b4"
      },
      "execution_count": null,
      "outputs": [
        {
          "output_type": "execute_result",
          "data": {
            "text/plain": [
              "2*a*\\phi(t) + b*sin(2*\\phi(t))"
            ],
            "text/latex": "$\\displaystyle 2 a \\phi{\\left(t \\right)} + b \\sin{\\left(2 \\phi{\\left(t \\right)} \\right)}$"
          },
          "metadata": {},
          "execution_count": 8
        }
      ]
    },
    {
      "cell_type": "code",
      "source": [
        "up"
      ],
      "metadata": {
        "colab": {
          "base_uri": "https://localhost:8080/",
          "height": 38
        },
        "id": "bZd8w3C6NTbJ",
        "outputId": "5791057a-f30c-4ac8-c9d2-c5bfe1f893b0"
      },
      "execution_count": null,
      "outputs": [
        {
          "output_type": "execute_result",
          "data": {
            "text/plain": [
              "b*k*(1 - cos(2*\\phi(t)))"
            ],
            "text/latex": "$\\displaystyle b k \\left(1 - \\cos{\\left(2 \\phi{\\left(t \\right)} \\right)}\\right)$"
          },
          "metadata": {},
          "execution_count": 9
        }
      ]
    },
    {
      "cell_type": "code",
      "source": [
        "dn"
      ],
      "metadata": {
        "colab": {
          "base_uri": "https://localhost:8080/",
          "height": 38
        },
        "id": "t2ZfRjU0NV2Z",
        "outputId": "81490971-a1d3-4620-b533-381e3bd79fde"
      },
      "execution_count": null,
      "outputs": [
        {
          "output_type": "execute_result",
          "data": {
            "text/plain": [
              "-b*k*(1 - cos(2*\\phi(t)))"
            ],
            "text/latex": "$\\displaystyle - b k \\left(1 - \\cos{\\left(2 \\phi{\\left(t \\right)} \\right)}\\right)$"
          },
          "metadata": {},
          "execution_count": 10
        }
      ]
    },
    {
      "cell_type": "code",
      "source": [
        "xu = sp.cos(alpha) * s - sp.sin(alpha) * up\n",
        "yu = sp.sin(alpha) * s + sp.cos(alpha) * up\n",
        "\n",
        "xd = sp.cos(alpha) * s - sp.sin(alpha) * dn\n",
        "yd = sp.sin(alpha) * s + sp.cos(alpha) * dn"
      ],
      "metadata": {
        "id": "hKzLPa2nohj4"
      },
      "execution_count": null,
      "outputs": []
    },
    {
      "cell_type": "code",
      "source": [
        "xu"
      ],
      "metadata": {
        "colab": {
          "base_uri": "https://localhost:8080/",
          "height": 38
        },
        "id": "EYknEl6dNd_5",
        "outputId": "61abf62f-06e3-4723-9adb-966e9ca26b84"
      },
      "execution_count": null,
      "outputs": [
        {
          "output_type": "execute_result",
          "data": {
            "text/plain": [
              "-b*k*(1 - cos(2*\\phi(t)))*sin(alpha) + (2*a*\\phi(t) + b*sin(2*\\phi(t)))*cos(alpha)"
            ],
            "text/latex": "$\\displaystyle - b k \\left(1 - \\cos{\\left(2 \\phi{\\left(t \\right)} \\right)}\\right) \\sin{\\left(\\alpha \\right)} + \\left(2 a \\phi{\\left(t \\right)} + b \\sin{\\left(2 \\phi{\\left(t \\right)} \\right)}\\right) \\cos{\\left(\\alpha \\right)}$"
          },
          "metadata": {},
          "execution_count": 12
        }
      ]
    },
    {
      "cell_type": "code",
      "source": [
        "yu"
      ],
      "metadata": {
        "colab": {
          "base_uri": "https://localhost:8080/",
          "height": 38
        },
        "id": "6UcJF9GSNgQL",
        "outputId": "71e6deca-3f71-4d00-b71d-3fafad98c928"
      },
      "execution_count": null,
      "outputs": [
        {
          "output_type": "execute_result",
          "data": {
            "text/plain": [
              "b*k*(1 - cos(2*\\phi(t)))*cos(alpha) + (2*a*\\phi(t) + b*sin(2*\\phi(t)))*sin(alpha)"
            ],
            "text/latex": "$\\displaystyle b k \\left(1 - \\cos{\\left(2 \\phi{\\left(t \\right)} \\right)}\\right) \\cos{\\left(\\alpha \\right)} + \\left(2 a \\phi{\\left(t \\right)} + b \\sin{\\left(2 \\phi{\\left(t \\right)} \\right)}\\right) \\sin{\\left(\\alpha \\right)}$"
          },
          "metadata": {},
          "execution_count": 13
        }
      ]
    },
    {
      "cell_type": "code",
      "source": [
        "xd"
      ],
      "metadata": {
        "colab": {
          "base_uri": "https://localhost:8080/",
          "height": 38
        },
        "id": "eYZGtlYdNiKZ",
        "outputId": "8edc29b8-ffcf-408b-e5ab-46ae46501dbe"
      },
      "execution_count": null,
      "outputs": [
        {
          "output_type": "execute_result",
          "data": {
            "text/plain": [
              "b*k*(1 - cos(2*\\phi(t)))*sin(alpha) + (2*a*\\phi(t) + b*sin(2*\\phi(t)))*cos(alpha)"
            ],
            "text/latex": "$\\displaystyle b k \\left(1 - \\cos{\\left(2 \\phi{\\left(t \\right)} \\right)}\\right) \\sin{\\left(\\alpha \\right)} + \\left(2 a \\phi{\\left(t \\right)} + b \\sin{\\left(2 \\phi{\\left(t \\right)} \\right)}\\right) \\cos{\\left(\\alpha \\right)}$"
          },
          "metadata": {},
          "execution_count": 14
        }
      ]
    },
    {
      "cell_type": "code",
      "source": [
        "yd"
      ],
      "metadata": {
        "colab": {
          "base_uri": "https://localhost:8080/",
          "height": 38
        },
        "id": "TzSgoqPBNkQr",
        "outputId": "4d25845d-21cf-44ad-a569-9eda65c649f7"
      },
      "execution_count": null,
      "outputs": [
        {
          "output_type": "execute_result",
          "data": {
            "text/plain": [
              "-b*k*(1 - cos(2*\\phi(t)))*cos(alpha) + (2*a*\\phi(t) + b*sin(2*\\phi(t)))*sin(alpha)"
            ],
            "text/latex": "$\\displaystyle - b k \\left(1 - \\cos{\\left(2 \\phi{\\left(t \\right)} \\right)}\\right) \\cos{\\left(\\alpha \\right)} + \\left(2 a \\phi{\\left(t \\right)} + b \\sin{\\left(2 \\phi{\\left(t \\right)} \\right)}\\right) \\sin{\\left(\\alpha \\right)}$"
          },
          "metadata": {},
          "execution_count": 15
        }
      ]
    },
    {
      "cell_type": "markdown",
      "source": [
        "### 기호로 표현된 식으로부터 계산할 수 있는 함수 생성"
      ],
      "metadata": {
        "id": "SEV0Mec-Wk3X"
      }
    },
    {
      "cell_type": "code",
      "source": [
        "xuf = sp.lambdify((a,b,k,alpha,phi), xu)\n",
        "yuf = sp.lambdify((a,b,k,alpha,phi), yu)\n",
        "xdf = sp.lambdify((a,b,k,alpha,phi), xd)\n",
        "ydf = sp.lambdify((a,b,k,alpha,phi), yd)"
      ],
      "metadata": {
        "id": "qPCK6efqq3E2"
      },
      "execution_count": null,
      "outputs": []
    },
    {
      "cell_type": "code",
      "source": [
        "phis = np.linspace(0,2*np.pi,100)"
      ],
      "metadata": {
        "id": "UDHp_fcFq53V"
      },
      "execution_count": null,
      "outputs": []
    },
    {
      "cell_type": "code",
      "source": [
        "deg = np.pi/180\n",
        "A, B, K = 1.0, 0.5, 1.5\n",
        "Alpha=-45*deg\n",
        "plt.axes().set_aspect(1)\n",
        "plt.plot(xuf(A,B,K,Alpha,phis),yuf(A,B,K,Alpha,phis), label=\"up\")\n",
        "plt.plot(xdf(A,B,K,Alpha,phis),ydf(A,B,K,Alpha,phis), label=\"dn\")\n",
        "plt.legend()\n",
        "plt.xlabel(\"x\")\n",
        "plt.ylabel(\"y\")\n",
        "plt.title(f\"a={A:.2f}; b={B:.2f}; k={K:.2f}; alpha={Alpha/deg:.1f} deg\")"
      ],
      "metadata": {
        "colab": {
          "base_uri": "https://localhost:8080/",
          "height": 490
        },
        "id": "Q1fDt4su57xu",
        "outputId": "5c8cab3e-0c8e-4ea8-f223-f5e1233c5cc4"
      },
      "execution_count": null,
      "outputs": [
        {
          "output_type": "execute_result",
          "data": {
            "text/plain": [
              "Text(0.5, 1.0, 'a=1.00; b=0.50; k=1.50; alpha=-45.0 deg')"
            ]
          },
          "metadata": {},
          "execution_count": 18
        },
        {
          "output_type": "display_data",
          "data": {
            "text/plain": [
              "<Figure size 640x480 with 1 Axes>"
            ],
            "image/png": "[encoded data removed]"
          },
          "metadata": {}
        }
      ]
    },
    {
      "cell_type": "code",
      "source": [
        "yd"
      ],
      "metadata": {
        "colab": {
          "base_uri": "https://localhost:8080/",
          "height": 38
        },
        "id": "gUl0-X7N55rP",
        "outputId": "45767add-7f23-459d-d9ef-5452da5a5b30"
      },
      "execution_count": null,
      "outputs": [
        {
          "output_type": "execute_result",
          "data": {
            "text/plain": [
              "-b*k*(1 - cos(2*\\phi(t)))*cos(alpha) + (2*a*\\phi(t) + b*sin(2*\\phi(t)))*sin(alpha)"
            ],
            "text/latex": "$\\displaystyle - b k \\left(1 - \\cos{\\left(2 \\phi{\\left(t \\right)} \\right)}\\right) \\cos{\\left(\\alpha \\right)} + \\left(2 a \\phi{\\left(t \\right)} + b \\sin{\\left(2 \\phi{\\left(t \\right)} \\right)}\\right) \\sin{\\left(\\alpha \\right)}$"
          },
          "metadata": {},
          "execution_count": 19
        }
      ]
    },
    {
      "cell_type": "markdown",
      "source": [
        "## 2. 운동방정식 유도"
      ],
      "metadata": {
        "id": "z1ejjVEwWBvQ"
      }
    },
    {
      "cell_type": "code",
      "source": [
        "xu_dot = sp.diff(xu,t)\n",
        "yu_dot = sp.diff(yu,t)\n",
        "\n",
        "xd_dot = sp.diff(xd,t)\n",
        "yd_dot = sp.diff(yd,t)"
      ],
      "metadata": {
        "id": "OBoLHwnlq7zk"
      },
      "execution_count": null,
      "outputs": []
    },
    {
      "cell_type": "code",
      "source": [
        "vxuf = sp.lambdify((a,b,k,alpha,phi,phidot),xu_dot)\n",
        "vyuf = sp.lambdify((a,b,k,alpha,phi,phidot),yu_dot)\n",
        "vxdf = sp.lambdify((a,b,k,alpha,phi,phidot),xd_dot)\n",
        "vydf = sp.lambdify((a,b,k,alpha,phi,phidot),yd_dot)"
      ],
      "metadata": {
        "id": "wGF0G_7vjaVf"
      },
      "execution_count": null,
      "outputs": []
    },
    {
      "cell_type": "markdown",
      "source": [
        "운동에너지와 퍼텐셜 에너지"
      ],
      "metadata": {
        "id": "VeM2ixRxW60X"
      }
    },
    {
      "cell_type": "code",
      "source": [
        "Tu = sp.Rational(1,2)*m*(xu_dot**2+yu_dot**2)\n",
        "Td = sp.Rational(1,2)*m*(xd_dot**2+yd_dot**2)\n",
        "Uu = m*g*yu\n",
        "Ud = m*g*yd\n"
      ],
      "metadata": {
        "id": "tF-SID6TrvKZ"
      },
      "execution_count": null,
      "outputs": []
    },
    {
      "cell_type": "markdown",
      "source": [
        "라그랑지안"
      ],
      "metadata": {
        "id": "ytLNRNuMW_O6"
      }
    },
    {
      "cell_type": "code",
      "source": [
        "Lu = sp.simplify(Tu - Uu)\n",
        "Ld = sp.simplify(Td - Ud)"
      ],
      "metadata": {
        "id": "1N5DCPpkseG6"
      },
      "execution_count": null,
      "outputs": []
    },
    {
      "cell_type": "code",
      "source": [
        "Lu"
      ],
      "metadata": {
        "colab": {
          "base_uri": "https://localhost:8080/",
          "height": 88
        },
        "id": "gcW6D-heN_jC",
        "outputId": "8207e6a6-474e-4515-e1fd-de3788b5967a"
      },
      "execution_count": null,
      "outputs": [
        {
          "output_type": "execute_result",
          "data": {
            "text/plain": [
              "m*(g*(b*k*(cos(2*\\phi(t)) - 1)*cos(alpha) - (2*a*\\phi(t) + b*sin(2*\\phi(t)))*sin(alpha)) + 2*(a**2 - 4*a*b*sin(\\phi(t))**2 + 2*a*b - 4*b**2*k**2*sin(\\phi(t))**4 + 4*b**2*k**2*sin(\\phi(t))**2 + 4*b**2*sin(\\phi(t))**4 - 4*b**2*sin(\\phi(t))**2 + b**2)*Derivative(\\phi(t), t)**2)"
            ],
            "text/latex": "$\\displaystyle m \\left(g \\left(b k \\left(\\cos{\\left(2 \\phi{\\left(t \\right)} \\right)} - 1\\right) \\cos{\\left(\\alpha \\right)} - \\left(2 a \\phi{\\left(t \\right)} + b \\sin{\\left(2 \\phi{\\left(t \\right)} \\right)}\\right) \\sin{\\left(\\alpha \\right)}\\right) + 2 \\left(a^{2} - 4 a b \\sin^{2}{\\left(\\phi{\\left(t \\right)} \\right)} + 2 a b - 4 b^{2} k^{2} \\sin^{4}{\\left(\\phi{\\left(t \\right)} \\right)} + 4 b^{2} k^{2} \\sin^{2}{\\left(\\phi{\\left(t \\right)} \\right)} + 4 b^{2} \\sin^{4}{\\left(\\phi{\\left(t \\right)} \\right)} - 4 b^{2} \\sin^{2}{\\left(\\phi{\\left(t \\right)} \\right)} + b^{2}\\right) \\left(\\frac{d}{d t} \\phi{\\left(t \\right)}\\right)^{2}\\right)$"
          },
          "metadata": {},
          "execution_count": 24
        }
      ]
    },
    {
      "cell_type": "code",
      "source": [
        "Ld"
      ],
      "metadata": {
        "colab": {
          "base_uri": "https://localhost:8080/",
          "height": 88
        },
        "id": "j1MbFWjzOCtu",
        "outputId": "abab4b54-609c-4bd2-f114-60bf32af56a9"
      },
      "execution_count": null,
      "outputs": [
        {
          "output_type": "execute_result",
          "data": {
            "text/plain": [
              "m*(-g*(b*k*(cos(2*\\phi(t)) - 1)*cos(alpha) + (2*a*\\phi(t) + b*sin(2*\\phi(t)))*sin(alpha)) + 2*(a**2 - 4*a*b*sin(\\phi(t))**2 + 2*a*b - 4*b**2*k**2*sin(\\phi(t))**4 + 4*b**2*k**2*sin(\\phi(t))**2 + 4*b**2*sin(\\phi(t))**4 - 4*b**2*sin(\\phi(t))**2 + b**2)*Derivative(\\phi(t), t)**2)"
            ],
            "text/latex": "$\\displaystyle m \\left(- g \\left(b k \\left(\\cos{\\left(2 \\phi{\\left(t \\right)} \\right)} - 1\\right) \\cos{\\left(\\alpha \\right)} + \\left(2 a \\phi{\\left(t \\right)} + b \\sin{\\left(2 \\phi{\\left(t \\right)} \\right)}\\right) \\sin{\\left(\\alpha \\right)}\\right) + 2 \\left(a^{2} - 4 a b \\sin^{2}{\\left(\\phi{\\left(t \\right)} \\right)} + 2 a b - 4 b^{2} k^{2} \\sin^{4}{\\left(\\phi{\\left(t \\right)} \\right)} + 4 b^{2} k^{2} \\sin^{2}{\\left(\\phi{\\left(t \\right)} \\right)} + 4 b^{2} \\sin^{4}{\\left(\\phi{\\left(t \\right)} \\right)} - 4 b^{2} \\sin^{2}{\\left(\\phi{\\left(t \\right)} \\right)} + b^{2}\\right) \\left(\\frac{d}{d t} \\phi{\\left(t \\right)}\\right)^{2}\\right)$"
          },
          "metadata": {},
          "execution_count": 25
        }
      ]
    },
    {
      "cell_type": "markdown",
      "source": [
        "오일러-라그랑지 방정식(운동방정식) 유도:"
      ],
      "metadata": {
        "id": "AMvvttMHXNyn"
      }
    },
    {
      "cell_type": "code",
      "source": [
        "LEu = sp.diff(Lu,phi) - sp.diff(sp.diff(Lu,phidot),t)\n",
        "LEd = sp.diff(Ld,phi) - sp.diff(sp.diff(Ld,phidot),t)"
      ],
      "metadata": {
        "id": "sFCuc1R6sp1r"
      },
      "execution_count": null,
      "outputs": []
    },
    {
      "cell_type": "code",
      "source": [
        "LEu"
      ],
      "metadata": {
        "colab": {
          "base_uri": "https://localhost:8080/",
          "height": 166
        },
        "id": "BYabzZT1OIoP",
        "outputId": "f6351880-cbb4-41fa-ce15-44062e087981"
      },
      "execution_count": null,
      "outputs": [
        {
          "output_type": "execute_result",
          "data": {
            "text/plain": [
              "m*(g*(-2*b*k*sin(2*\\phi(t))*cos(alpha) - (2*a + 2*b*cos(2*\\phi(t)))*sin(alpha)) + 2*(-8*a*b*sin(\\phi(t))*cos(\\phi(t)) - 16*b**2*k**2*sin(\\phi(t))**3*cos(\\phi(t)) + 8*b**2*k**2*sin(\\phi(t))*cos(\\phi(t)) + 16*b**2*sin(\\phi(t))**3*cos(\\phi(t)) - 8*b**2*sin(\\phi(t))*cos(\\phi(t)))*Derivative(\\phi(t), t)**2) - 4*m*(-8*a*b*sin(\\phi(t))*cos(\\phi(t))*Derivative(\\phi(t), t) - 16*b**2*k**2*sin(\\phi(t))**3*cos(\\phi(t))*Derivative(\\phi(t), t) + 8*b**2*k**2*sin(\\phi(t))*cos(\\phi(t))*Derivative(\\phi(t), t) + 16*b**2*sin(\\phi(t))**3*cos(\\phi(t))*Derivative(\\phi(t), t) - 8*b**2*sin(\\phi(t))*cos(\\phi(t))*Derivative(\\phi(t), t))*Derivative(\\phi(t), t) - 4*m*(a**2 - 4*a*b*sin(\\phi(t))**2 + 2*a*b - 4*b**2*k**2*sin(\\phi(t))**4 + 4*b**2*k**2*sin(\\phi(t))**2 + 4*b**2*sin(\\phi(t))**4 - 4*b**2*sin(\\phi(t))**2 + b**2)*Derivative(\\phi(t), (t, 2))"
            ],
            "text/latex": "$\\displaystyle m \\left(g \\left(- 2 b k \\sin{\\left(2 \\phi{\\left(t \\right)} \\right)} \\cos{\\left(\\alpha \\right)} - \\left(2 a + 2 b \\cos{\\left(2 \\phi{\\left(t \\right)} \\right)}\\right) \\sin{\\left(\\alpha \\right)}\\right) + 2 \\left(- 8 a b \\sin{\\left(\\phi{\\left(t \\right)} \\right)} \\cos{\\left(\\phi{\\left(t \\right)} \\right)} - 16 b^{2} k^{2} \\sin^{3}{\\left(\\phi{\\left(t \\right)} \\right)} \\cos{\\left(\\phi{\\left(t \\right)} \\right)} + 8 b^{2} k^{2} \\sin{\\left(\\phi{\\left(t \\right)} \\right)} \\cos{\\left(\\phi{\\left(t \\right)} \\right)} + 16 b^{2} \\sin^{3}{\\left(\\phi{\\left(t \\right)} \\right)} \\cos{\\left(\\phi{\\left(t \\right)} \\right)} - 8 b^{2} \\sin{\\left(\\phi{\\left(t \\right)} \\right)} \\cos{\\left(\\phi{\\left(t \\right)} \\right)}\\right) \\left(\\frac{d}{d t} \\phi{\\left(t \\right)}\\right)^{2}\\right) - 4 m \\left(- 8 a b \\sin{\\left(\\phi{\\left(t \\right)} \\right)} \\cos{\\left(\\phi{\\left(t \\right)} \\right)} \\frac{d}{d t} \\phi{\\left(t \\right)} - 16 b^{2} k^{2} \\sin^{3}{\\left(\\phi{\\left(t \\right)} \\right)} \\cos{\\left(\\phi{\\left(t \\right)} \\right)} \\frac{d}{d t} \\phi{\\left(t \\right)} + 8 b^{2} k^{2} \\sin{\\left(\\phi{\\left(t \\right)} \\right)} \\cos{\\left(\\phi{\\left(t \\right)} \\right)} \\frac{d}{d t} \\phi{\\left(t \\right)} + 16 b^{2} \\sin^{3}{\\left(\\phi{\\left(t \\right)} \\right)} \\cos{\\left(\\phi{\\left(t \\right)} \\right)} \\frac{d}{d t} \\phi{\\left(t \\right)} - 8 b^{2} \\sin{\\left(\\phi{\\left(t \\right)} \\right)} \\cos{\\left(\\phi{\\left(t \\right)} \\right)} \\frac{d}{d t} \\phi{\\left(t \\right)}\\right) \\frac{d}{d t} \\phi{\\left(t \\right)} - 4 m \\left(a^{2} - 4 a b \\sin^{2}{\\left(\\phi{\\left(t \\right)} \\right)} + 2 a b - 4 b^{2} k^{2} \\sin^{4}{\\left(\\phi{\\left(t \\right)} \\right)} + 4 b^{2} k^{2} \\sin^{2}{\\left(\\phi{\\left(t \\right)} \\right)} + 4 b^{2} \\sin^{4}{\\left(\\phi{\\left(t \\right)} \\right)} - 4 b^{2} \\sin^{2}{\\left(\\phi{\\left(t \\right)} \\right)} + b^{2}\\right) \\frac{d^{2}}{d t^{2}} \\phi{\\left(t \\right)}$"
          },
          "metadata": {},
          "execution_count": 27
        }
      ]
    },
    {
      "cell_type": "code",
      "source": [
        "LEd"
      ],
      "metadata": {
        "colab": {
          "base_uri": "https://localhost:8080/",
          "height": 166
        },
        "id": "eGTGfGSaOLDb",
        "outputId": "964d2587-2951-45ae-b603-296a3317fc29"
      },
      "execution_count": null,
      "outputs": [
        {
          "output_type": "execute_result",
          "data": {
            "text/plain": [
              "m*(-g*(-2*b*k*sin(2*\\phi(t))*cos(alpha) + (2*a + 2*b*cos(2*\\phi(t)))*sin(alpha)) + 2*(-8*a*b*sin(\\phi(t))*cos(\\phi(t)) - 16*b**2*k**2*sin(\\phi(t))**3*cos(\\phi(t)) + 8*b**2*k**2*sin(\\phi(t))*cos(\\phi(t)) + 16*b**2*sin(\\phi(t))**3*cos(\\phi(t)) - 8*b**2*sin(\\phi(t))*cos(\\phi(t)))*Derivative(\\phi(t), t)**2) - 4*m*(-8*a*b*sin(\\phi(t))*cos(\\phi(t))*Derivative(\\phi(t), t) - 16*b**2*k**2*sin(\\phi(t))**3*cos(\\phi(t))*Derivative(\\phi(t), t) + 8*b**2*k**2*sin(\\phi(t))*cos(\\phi(t))*Derivative(\\phi(t), t) + 16*b**2*sin(\\phi(t))**3*cos(\\phi(t))*Derivative(\\phi(t), t) - 8*b**2*sin(\\phi(t))*cos(\\phi(t))*Derivative(\\phi(t), t))*Derivative(\\phi(t), t) - 4*m*(a**2 - 4*a*b*sin(\\phi(t))**2 + 2*a*b - 4*b**2*k**2*sin(\\phi(t))**4 + 4*b**2*k**2*sin(\\phi(t))**2 + 4*b**2*sin(\\phi(t))**4 - 4*b**2*sin(\\phi(t))**2 + b**2)*Derivative(\\phi(t), (t, 2))"
            ],
            "text/latex": "$\\displaystyle m \\left(- g \\left(- 2 b k \\sin{\\left(2 \\phi{\\left(t \\right)} \\right)} \\cos{\\left(\\alpha \\right)} + \\left(2 a + 2 b \\cos{\\left(2 \\phi{\\left(t \\right)} \\right)}\\right) \\sin{\\left(\\alpha \\right)}\\right) + 2 \\left(- 8 a b \\sin{\\left(\\phi{\\left(t \\right)} \\right)} \\cos{\\left(\\phi{\\left(t \\right)} \\right)} - 16 b^{2} k^{2} \\sin^{3}{\\left(\\phi{\\left(t \\right)} \\right)} \\cos{\\left(\\phi{\\left(t \\right)} \\right)} + 8 b^{2} k^{2} \\sin{\\left(\\phi{\\left(t \\right)} \\right)} \\cos{\\left(\\phi{\\left(t \\right)} \\right)} + 16 b^{2} \\sin^{3}{\\left(\\phi{\\left(t \\right)} \\right)} \\cos{\\left(\\phi{\\left(t \\right)} \\right)} - 8 b^{2} \\sin{\\left(\\phi{\\left(t \\right)} \\right)} \\cos{\\left(\\phi{\\left(t \\right)} \\right)}\\right) \\left(\\frac{d}{d t} \\phi{\\left(t \\right)}\\right)^{2}\\right) - 4 m \\left(- 8 a b \\sin{\\left(\\phi{\\left(t \\right)} \\right)} \\cos{\\left(\\phi{\\left(t \\right)} \\right)} \\frac{d}{d t} \\phi{\\left(t \\right)} - 16 b^{2} k^{2} \\sin^{3}{\\left(\\phi{\\left(t \\right)} \\right)} \\cos{\\left(\\phi{\\left(t \\right)} \\right)} \\frac{d}{d t} \\phi{\\left(t \\right)} + 8 b^{2} k^{2} \\sin{\\left(\\phi{\\left(t \\right)} \\right)} \\cos{\\left(\\phi{\\left(t \\right)} \\right)} \\frac{d}{d t} \\phi{\\left(t \\right)} + 16 b^{2} \\sin^{3}{\\left(\\phi{\\left(t \\right)} \\right)} \\cos{\\left(\\phi{\\left(t \\right)} \\right)} \\frac{d}{d t} \\phi{\\left(t \\right)} - 8 b^{2} \\sin{\\left(\\phi{\\left(t \\right)} \\right)} \\cos{\\left(\\phi{\\left(t \\right)} \\right)} \\frac{d}{d t} \\phi{\\left(t \\right)}\\right) \\frac{d}{d t} \\phi{\\left(t \\right)} - 4 m \\left(a^{2} - 4 a b \\sin^{2}{\\left(\\phi{\\left(t \\right)} \\right)} + 2 a b - 4 b^{2} k^{2} \\sin^{4}{\\left(\\phi{\\left(t \\right)} \\right)} + 4 b^{2} k^{2} \\sin^{2}{\\left(\\phi{\\left(t \\right)} \\right)} + 4 b^{2} \\sin^{4}{\\left(\\phi{\\left(t \\right)} \\right)} - 4 b^{2} \\sin^{2}{\\left(\\phi{\\left(t \\right)} \\right)} + b^{2}\\right) \\frac{d^{2}}{d t^{2}} \\phi{\\left(t \\right)}$"
          },
          "metadata": {},
          "execution_count": 28
        }
      ]
    },
    {
      "cell_type": "markdown",
      "source": [
        "수치 모의실험에 사용할 수 있는 형태로 변환:"
      ],
      "metadata": {
        "id": "DyemyvRzXEyX"
      }
    },
    {
      "cell_type": "code",
      "source": [
        "ddphiu = sp.solve(LEu,phiddot)[0]\n",
        "ddphid = sp.solve(LEd,phiddot)[0]"
      ],
      "metadata": {
        "id": "l49L6fO_t3HN"
      },
      "execution_count": null,
      "outputs": []
    },
    {
      "cell_type": "code",
      "source": [
        "ddphiu"
      ],
      "metadata": {
        "colab": {
          "base_uri": "https://localhost:8080/",
          "height": 65
        },
        "id": "gjfkNy3S1C0m",
        "outputId": "bff3544a-cb42-4e64-950c-12300872bd5f"
      },
      "execution_count": null,
      "outputs": [
        {
          "output_type": "execute_result",
          "data": {
            "text/plain": [
              "(2*a*b*sin(2*\\phi(t))*Derivative(\\phi(t), t)**2 - a*g*sin(alpha)/2 - b**2*k**2*sin(4*\\phi(t))*Derivative(\\phi(t), t)**2 + b**2*sin(4*\\phi(t))*Derivative(\\phi(t), t)**2 + b*g*k*sin(alpha - 2*\\phi(t))/4 - b*g*k*sin(alpha + 2*\\phi(t))/4 - b*g*sin(alpha - 2*\\phi(t))/4 - b*g*sin(alpha + 2*\\phi(t))/4)/(a**2 - 4*a*b*sin(\\phi(t))**2 + 2*a*b - 4*b**2*k**2*sin(\\phi(t))**4 + 4*b**2*k**2*sin(\\phi(t))**2 + 4*b**2*sin(\\phi(t))**4 - 4*b**2*sin(\\phi(t))**2 + b**2)"
            ],
            "text/latex": "$\\displaystyle \\frac{2 a b \\sin{\\left(2 \\phi{\\left(t \\right)} \\right)} \\left(\\frac{d}{d t} \\phi{\\left(t \\right)}\\right)^{2} - \\frac{a g \\sin{\\left(\\alpha \\right)}}{2} - b^{2} k^{2} \\sin{\\left(4 \\phi{\\left(t \\right)} \\right)} \\left(\\frac{d}{d t} \\phi{\\left(t \\right)}\\right)^{2} + b^{2} \\sin{\\left(4 \\phi{\\left(t \\right)} \\right)} \\left(\\frac{d}{d t} \\phi{\\left(t \\right)}\\right)^{2} + \\frac{b g k \\sin{\\left(\\alpha - 2 \\phi{\\left(t \\right)} \\right)}}{4} - \\frac{b g k \\sin{\\left(\\alpha + 2 \\phi{\\left(t \\right)} \\right)}}{4} - \\frac{b g \\sin{\\left(\\alpha - 2 \\phi{\\left(t \\right)} \\right)}}{4} - \\frac{b g \\sin{\\left(\\alpha + 2 \\phi{\\left(t \\right)} \\right)}}{4}}{a^{2} - 4 a b \\sin^{2}{\\left(\\phi{\\left(t \\right)} \\right)} + 2 a b - 4 b^{2} k^{2} \\sin^{4}{\\left(\\phi{\\left(t \\right)} \\right)} + 4 b^{2} k^{2} \\sin^{2}{\\left(\\phi{\\left(t \\right)} \\right)} + 4 b^{2} \\sin^{4}{\\left(\\phi{\\left(t \\right)} \\right)} - 4 b^{2} \\sin^{2}{\\left(\\phi{\\left(t \\right)} \\right)} + b^{2}}$"
          },
          "metadata": {},
          "execution_count": 30
        }
      ]
    },
    {
      "cell_type": "code",
      "source": [
        "ddphid"
      ],
      "metadata": {
        "colab": {
          "base_uri": "https://localhost:8080/",
          "height": 65
        },
        "id": "gQtVyMdh85-l",
        "outputId": "502ead06-11d3-45c1-8a0a-9b80e7aca4c3"
      },
      "execution_count": null,
      "outputs": [
        {
          "output_type": "execute_result",
          "data": {
            "text/plain": [
              "(2*a*b*sin(2*\\phi(t))*Derivative(\\phi(t), t)**2 - a*g*sin(alpha)/2 - b**2*k**2*sin(4*\\phi(t))*Derivative(\\phi(t), t)**2 + b**2*sin(4*\\phi(t))*Derivative(\\phi(t), t)**2 - b*g*k*sin(alpha - 2*\\phi(t))/4 + b*g*k*sin(alpha + 2*\\phi(t))/4 - b*g*sin(alpha - 2*\\phi(t))/4 - b*g*sin(alpha + 2*\\phi(t))/4)/(a**2 - 4*a*b*sin(\\phi(t))**2 + 2*a*b - 4*b**2*k**2*sin(\\phi(t))**4 + 4*b**2*k**2*sin(\\phi(t))**2 + 4*b**2*sin(\\phi(t))**4 - 4*b**2*sin(\\phi(t))**2 + b**2)"
            ],
            "text/latex": "$\\displaystyle \\frac{2 a b \\sin{\\left(2 \\phi{\\left(t \\right)} \\right)} \\left(\\frac{d}{d t} \\phi{\\left(t \\right)}\\right)^{2} - \\frac{a g \\sin{\\left(\\alpha \\right)}}{2} - b^{2} k^{2} \\sin{\\left(4 \\phi{\\left(t \\right)} \\right)} \\left(\\frac{d}{d t} \\phi{\\left(t \\right)}\\right)^{2} + b^{2} \\sin{\\left(4 \\phi{\\left(t \\right)} \\right)} \\left(\\frac{d}{d t} \\phi{\\left(t \\right)}\\right)^{2} - \\frac{b g k \\sin{\\left(\\alpha - 2 \\phi{\\left(t \\right)} \\right)}}{4} + \\frac{b g k \\sin{\\left(\\alpha + 2 \\phi{\\left(t \\right)} \\right)}}{4} - \\frac{b g \\sin{\\left(\\alpha - 2 \\phi{\\left(t \\right)} \\right)}}{4} - \\frac{b g \\sin{\\left(\\alpha + 2 \\phi{\\left(t \\right)} \\right)}}{4}}{a^{2} - 4 a b \\sin^{2}{\\left(\\phi{\\left(t \\right)} \\right)} + 2 a b - 4 b^{2} k^{2} \\sin^{4}{\\left(\\phi{\\left(t \\right)} \\right)} + 4 b^{2} k^{2} \\sin^{2}{\\left(\\phi{\\left(t \\right)} \\right)} + 4 b^{2} \\sin^{4}{\\left(\\phi{\\left(t \\right)} \\right)} - 4 b^{2} \\sin^{2}{\\left(\\phi{\\left(t \\right)} \\right)} + b^{2}}$"
          },
          "metadata": {},
          "execution_count": 31
        }
      ]
    },
    {
      "cell_type": "code",
      "source": [
        "ode1 = sp.lambdify(phidot, phidot)\n",
        "ode2u = sp.lambdify((g, a, b, k, alpha, phi, phidot), ddphiu)\n",
        "ode2d = sp.lambdify((g, a, b, k, alpha, phi, phidot), ddphid)"
      ],
      "metadata": {
        "id": "eAeBhElK1FWa"
      },
      "execution_count": null,
      "outputs": []
    },
    {
      "cell_type": "code",
      "source": [
        "deg=np.pi/180\n",
        "ode2d(9.8,1,0.1,9.0,-30*deg,1.0, 0.0)"
      ],
      "metadata": {
        "colab": {
          "base_uri": "https://localhost:8080/"
        },
        "id": "SNnX8Tez73bv",
        "outputId": "016eecec-ece9-45f4-af3f-3248066756ce"
      },
      "execution_count": null,
      "outputs": [
        {
          "output_type": "execute_result",
          "data": {
            "text/plain": [
              "3.6649694049984576"
            ]
          },
          "metadata": {},
          "execution_count": 33
        }
      ]
    },
    {
      "cell_type": "code",
      "source": [
        "def dSudt(Su, t):\n",
        "  phi = Su[0]\n",
        "  phidot = Su[1]\n",
        "  return ode1(phidot), ode2u(g, a, b, k, alpha, phi, phidot)\n",
        "\n",
        "def dSddt(Sd, t):\n",
        "  phi = Sd[0]\n",
        "  phidot = Sd[1]\n",
        "  return ode1(phidot), ode2d(g, a, b, k, alpha, phi, phidot)\n"
      ],
      "metadata": {
        "id": "QsE2kM7-8Szx"
      },
      "execution_count": null,
      "outputs": []
    },
    {
      "cell_type": "markdown",
      "source": [
        "## 3. 시뮬레이션 진행"
      ],
      "metadata": {
        "id": "2j1rBEChWL1f"
      }
    },
    {
      "cell_type": "markdown",
      "source": [
        "Give concrete values for $a$, $b$, $k$, and $\\alpha$ here."
      ],
      "metadata": {
        "id": "OPB5yX8Sq4x-"
      }
    },
    {
      "cell_type": "code",
      "source": [
        "ts1 = np.linspace(0,2,100)\n",
        "deg = np.pi/180\n",
        "g=9.8\n",
        "\n",
        "'''\n",
        "Give concrete values for a, b, and alpha here\n",
        "'''\n",
        "a=1\n",
        "b=0.5\n",
        "k=1.5\n",
        "alpha=-45*deg\n",
        "\n",
        "\"\"\"\n",
        "임의의 시간 동안 초벌 시뮬레이션 진행\n",
        "\"\"\"\n",
        "ans1 = odeint(dSddt, y0=[0,0], t=ts1)\n",
        "ans2 = odeint(dSudt, y0=[0,0], t=ts1)"
      ],
      "metadata": {
        "id": "fiB6Rxx0BKwo"
      },
      "execution_count": null,
      "outputs": []
    },
    {
      "cell_type": "code",
      "source": [
        "\"\"\"\n",
        "물체들이 P점을 지날 때까지 충분히 긴 시간동안 시뮬레이션이 진행되었는지 확인:\n",
        "\"\"\"\n",
        "evals = np.array([\"Too short\", \"Okay\"])\n",
        "[evals[floor(p)] for p in (np.sign(np.array([ans[-1][0] for ans in [ans1, ans2]]) - np.pi)+1)/2]"
      ],
      "metadata": {
        "colab": {
          "base_uri": "https://localhost:8080/"
        },
        "id": "D8EQrcrXsxua",
        "outputId": "bb89bff3-87d5-4896-ac14-f3b5b351f6ff"
      },
      "execution_count": null,
      "outputs": [
        {
          "output_type": "execute_result",
          "data": {
            "text/plain": [
              "['Okay', 'Okay']"
            ]
          },
          "metadata": {},
          "execution_count": 36
        }
      ]
    },
    {
      "cell_type": "code",
      "source": [
        "plt.plot(ts1,ans1.T[0])\n",
        "plt.plot(ts1,ans2.T[0])\n",
        "plt.xlabel(\"t\")\n",
        "plt.ylabel(\"phi0\")\n",
        "plt.axhline(np.pi,color='black', linestyle='dashed')"
      ],
      "metadata": {
        "colab": {
          "base_uri": "https://localhost:8080/",
          "height": 467
        },
        "id": "-LYWu-JXDSNG",
        "outputId": "0bd542d5-14ff-4670-a772-3b4207bc98bb"
      },
      "execution_count": null,
      "outputs": [
        {
          "output_type": "execute_result",
          "data": {
            "text/plain": [
              "<matplotlib.lines.Line2D at 0x7a4140f86f80>"
            ]
          },
          "metadata": {},
          "execution_count": 38
        },
        {
          "output_type": "display_data",
          "data": {
            "text/plain": [
              "<Figure size 640x480 with 1 Axes>"
            ],
            "image/png": "[encoded data removed]"
          },
          "metadata": {}
        }
      ]
    },
    {
      "cell_type": "code",
      "source": [
        "\"\"\"\n",
        "초벌 시뮬레이션 결과를 다항식으로 근사\n",
        "시간 t를 phi의 함수로 피팅하여\n",
        "phi=pi(P점) 도달 시간을 쉽게 찾을 수 있도록 함.\n",
        "피팅계수를 먼저 구한다:\n",
        "\"\"\"\n",
        "pf1 = np.polyfit(ans1.T[0],ts1,19)\n",
        "pf2 = np.polyfit(ans2.T[0],ts1,19)"
      ],
      "metadata": {
        "colab": {
          "base_uri": "https://localhost:8080/"
        },
        "id": "fht7SSfZH88A",
        "outputId": "2f0b30fe-e76d-402f-deaa-3dbecfedd901"
      },
      "execution_count": null,
      "outputs": [
        {
          "output_type": "stream",
          "name": "stderr",
          "text": [
            "<ipython-input-39-67dab82fa67a>:7: RankWarning: Polyfit may be poorly conditioned\n",
            "  pf1 = np.polyfit(ans1.T[0],ts1,19)\n",
            "<ipython-input-39-67dab82fa67a>:8: RankWarning: Polyfit may be poorly conditioned\n",
            "  pf2 = np.polyfit(ans2.T[0],ts1,19)\n"
          ]
        }
      ]
    },
    {
      "cell_type": "code",
      "source": [
        "\"\"\"\n",
        "위의 피팅 계수로 피팅함수를 구한다.\n",
        "\"\"\"\n",
        "ffit1 = np.poly1d(pf1)\n",
        "ffit2 = np.poly1d(pf2)\n",
        "print(ffit1)\n",
        "print(ffit2)"
      ],
      "metadata": {
        "id": "8_63zk4ML_KY",
        "colab": {
          "base_uri": "https://localhost:8080/"
        },
        "outputId": "1999e3db-2796-4c3e-981f-95e327a84b97"
      },
      "execution_count": null,
      "outputs": [
        {
          "output_type": "stream",
          "name": "stdout",
          "text": [
            "            19             18            17             16\n",
            "-5.083e-08 x  + 2.662e-06 x  - 6.15e-05 x  + 0.0008079 x \n",
            "             15           14           13         12        11\n",
            " - 0.006291 x  + 0.02356 x  + 0.06125 x  - 1.441 x  + 10.2 x \n",
            "          10         9       8         7         6         5       4\n",
            " - 45.24 x  + 140.9 x - 319 x + 527.9 x - 632.8 x + 537.8 x - 313 x\n",
            "          3         2\n",
            " + 118.9 x - 27.92 x + 4.508 x + 0.03604\n",
            "            19            18           17          16         15\n",
            "-4.233e-05 x  + 0.001528 x  - 0.02428 x  + 0.2188 x  - 1.159 x \n",
            "          14         13         12         11        10        9\n",
            " + 2.831 x  + 6.851 x  - 94.86 x  + 452.8 x  - 1372 x  + 2934 x\n",
            "         8        7        6        5        4         3         2\n",
            " - 4570 x + 5221 x - 4336 x + 2564 x - 1044 x + 278.6 x - 46.08 x + 5.369 x + 0.02997\n"
          ]
        }
      ]
    },
    {
      "cell_type": "code",
      "source": [
        "\"\"\"\n",
        "다항식 피팅 함수가 시뮬레이션 결과를 잘 반영하는지 시각적으로 확인\n",
        "\"\"\"\n",
        "plt.plot(ts1,ans1.T[0])\n",
        "plt.plot(ts1,ans2.T[0])\n",
        "plt.plot(ffit1(ans1.T[0]),ans1.T[0],\"r--\")\n",
        "plt.plot(ffit2(ans2.T[0]),ans2.T[0],\"g--\")\n",
        "plt.xlabel(\"t\")\n",
        "plt.ylabel(\"phi\")\n",
        "plt.legend([\"A1\",\"C1\",\"A1-polyfit\",\"C1-polyfit\"])\n",
        "plt.axhline(np.pi, color='black', ls='dashed')"
      ],
      "metadata": {
        "colab": {
          "base_uri": "https://localhost:8080/",
          "height": 467
        },
        "id": "g3X_ZVXfMUMQ",
        "outputId": "5e6135b9-da98-42bd-a9f9-faed16b3ea06"
      },
      "execution_count": null,
      "outputs": [
        {
          "output_type": "execute_result",
          "data": {
            "text/plain": [
              "<matplotlib.lines.Line2D at 0x7a41413c0850>"
            ]
          },
          "metadata": {},
          "execution_count": 42
        },
        {
          "output_type": "display_data",
          "data": {
            "text/plain": [
              "<Figure size 640x480 with 1 Axes>"
            ],
            "image/png": "[encoded data removed]"
          },
          "metadata": {}
        }
      ]
    },
    {
      "cell_type": "code",
      "source": [
        "\"\"\"\n",
        "AB, CD 의 P점 도달 시간\n",
        "\"\"\"\n",
        "tPAB = ffit1(np.pi)\n",
        "tPCD = ffit2(np.pi)\n",
        "print(tPAB)\n",
        "print(tPCD)"
      ],
      "metadata": {
        "id": "ReF2-LuCOI6v",
        "colab": {
          "base_uri": "https://localhost:8080/"
        },
        "outputId": "bcfbf3db-a43c-4f37-d15e-0a143252e5ef"
      },
      "execution_count": null,
      "outputs": [
        {
          "output_type": "stream",
          "name": "stdout",
          "text": [
            "1.3734885948678521\n",
            "1.6725860595019508\n"
          ]
        }
      ]
    },
    {
      "cell_type": "code",
      "source": [
        "\"\"\"\n",
        "P점 도달 시간까지 본 시뮬레이션을 1차 진행\n",
        "\"\"\"\n",
        "tsAB = np.linspace(0,tPAB,101)\n",
        "tsCD = np.linspace(0,tPCD,101)\n",
        "ansAB = odeint(dSddt, y0=[0,0], t=tsAB)\n",
        "ansCD = odeint(dSudt, y0=[0,0], t=tsCD)"
      ],
      "metadata": {
        "id": "asowfCUnOnvQ"
      },
      "execution_count": null,
      "outputs": []
    },
    {
      "cell_type": "code",
      "source": [
        "\"\"\"\n",
        "1차 시뮬레이션의 마지막 값이 phi=pi, 즉 P점을 가리키는 지 확인:\n",
        "\"\"\"\n",
        "print(ansAB[-1])\n",
        "print(ansCD[-1])"
      ],
      "metadata": {
        "colab": {
          "base_uri": "https://localhost:8080/"
        },
        "id": "I08VyzbBPNZi",
        "outputId": "2f4543a2-52e5-438f-b781-39cbdf7a8d21"
      },
      "execution_count": null,
      "outputs": [
        {
          "output_type": "stream",
          "name": "stdout",
          "text": [
            "[3.14449762 3.11272897]\n",
            "[3.1433519  3.11187129]\n"
          ]
        }
      ]
    },
    {
      "cell_type": "code",
      "source": [
        "\"\"\"\n",
        "1차 시뮬레이션의 마지막 값을 초깃값으로 삼아 2차 즉 P-Q구간 시뮬레이션을 초벌 진행\n",
        "(시간 구간은 임의로 설정)\n",
        "\"\"\"\n",
        "tsA2 = np.linspace(tPAB,1.5*tPAB,100)\n",
        "tsC2 = np.linspace(tPCD,1.5*tPCD,100)\n",
        "ansA2 = odeint(dSddt, y0=ansAB[-1], t=tsA2)\n",
        "ansB2 = odeint(dSudt, y0=ansAB[-1], t=tsA2)\n",
        "ansC2 = odeint(dSddt, y0=ansCD[-1], t=tsC2)\n",
        "ansD2 = odeint(dSudt, y0=ansCD[-1], t=tsC2)"
      ],
      "metadata": {
        "id": "0_ezxEt4PSN1"
      },
      "execution_count": null,
      "outputs": []
    },
    {
      "cell_type": "code",
      "source": [
        "\"\"\"\n",
        "물체들이 Q점을 지날 때까지 출분히 긴 시간동안 시뮬레이션이 진행되었는지 확인:\n",
        "\"\"\"\n",
        "[evals[floor(p)] for p in (np.sign(np.array([ans[-1][0] for ans in [ansA2, ansB2, ansC2, ansD2]]) - 2*np.pi)+1)/2]"
      ],
      "metadata": {
        "colab": {
          "base_uri": "https://localhost:8080/"
        },
        "id": "Qx3tkPou9pBX",
        "outputId": "83bd3a09-d0ba-4164-eead-812f6d095f1a"
      },
      "execution_count": null,
      "outputs": [
        {
          "output_type": "execute_result",
          "data": {
            "text/plain": [
              "['Okay', 'Okay', 'Okay', 'Okay']"
            ]
          },
          "metadata": {},
          "execution_count": 47
        }
      ]
    },
    {
      "cell_type": "code",
      "source": [
        "\"\"\"\n",
        "2차 시뮬레이션 결과를 다항식으로 근사.\n",
        "시간을 phi의 함수로 피팅하여 phi=2pi, 즉 Q점 도착시간을 찾기 편하게 함.\n",
        "\"\"\"\n",
        "pf3 = np.polyfit(ansA2.T[0],tsA2,20)\n",
        "pf4 = np.polyfit(ansB2.T[0],tsA2,20)\n",
        "pf5 = np.polyfit(ansC2.T[0],tsC2,20)\n",
        "pf6 = np.polyfit(ansD2.T[0],tsC2,20)\n"
      ],
      "metadata": {
        "colab": {
          "base_uri": "https://localhost:8080/"
        },
        "id": "zqLEy7lAUAgz",
        "outputId": "ccada21a-2335-4ff0-c609-0d36e4c34e7c"
      },
      "execution_count": null,
      "outputs": [
        {
          "output_type": "stream",
          "name": "stderr",
          "text": [
            "<ipython-input-48-6bb410461306>:5: RankWarning: Polyfit may be poorly conditioned\n",
            "  pf3 = np.polyfit(ansA2.T[0],tsA2,20)\n",
            "<ipython-input-48-6bb410461306>:6: RankWarning: Polyfit may be poorly conditioned\n",
            "  pf4 = np.polyfit(ansB2.T[0],tsA2,20)\n",
            "<ipython-input-48-6bb410461306>:7: RankWarning: Polyfit may be poorly conditioned\n",
            "  pf5 = np.polyfit(ansC2.T[0],tsC2,20)\n",
            "<ipython-input-48-6bb410461306>:8: RankWarning: Polyfit may be poorly conditioned\n",
            "  pf6 = np.polyfit(ansD2.T[0],tsC2,20)\n"
          ]
        }
      ]
    },
    {
      "cell_type": "code",
      "source": [
        "\"\"\"\n",
        "피팅 계수로부터 다항 함수를 만든다.\n",
        "\"\"\"\n",
        "ffit3 = np.poly1d(pf3)\n",
        "ffit4 = np.poly1d(pf4)\n",
        "ffit5 = np.poly1d(pf5)\n",
        "ffit6 = np.poly1d(pf6)"
      ],
      "metadata": {
        "id": "5kGg8teOUdg9"
      },
      "execution_count": null,
      "outputs": []
    },
    {
      "cell_type": "code",
      "source": [
        "\"\"\"\n",
        "피팅한 다항 함수로부터 A~D 각각의 Q점 도달 시간을 구한다:\n",
        "\"\"\"\n",
        "tQA = ffit3(2*np.pi)\n",
        "tQB = ffit4(2*np.pi)\n",
        "tQC = ffit5(2*np.pi)\n",
        "tQD = ffit6(2*np.pi)\n"
      ],
      "metadata": {
        "id": "gEC_ORxZUpjL"
      },
      "execution_count": null,
      "outputs": []
    },
    {
      "cell_type": "code",
      "source": [
        "\"\"\"\n",
        "A~D 각각 Q점 도달시까지 2차 본 시뮬레이션 진행\n",
        "\"\"\"\n",
        "tsA2 = np.linspace(tPAB,tQA,100)\n",
        "tsB2 = np.linspace(tPAB,tQB,100)\n",
        "tsC2 = np.linspace(tPCD,tQC,100)\n",
        "tsD2 = np.linspace(tPCD,tQD,100)\n",
        "ansA2 = odeint(dSddt, y0=ansAB[-1], t=tsA2)\n",
        "ansB2 = odeint(dSudt, y0=ansAB[-1], t=tsB2)\n",
        "ansC2 = odeint(dSddt, y0=ansCD[-1], t=tsC2)\n",
        "ansD2 = odeint(dSudt, y0=ansCD[-1], t=tsD2)"
      ],
      "metadata": {
        "id": "GTR6CGH4U4Wn"
      },
      "execution_count": null,
      "outputs": []
    },
    {
      "cell_type": "markdown",
      "source": [
        "## 4. 결과 분석"
      ],
      "metadata": {
        "id": "c3mU-rGnWX4A"
      }
    },
    {
      "cell_type": "code",
      "source": [
        "\"\"\"\n",
        "A~D각각의 전체 경로:\n",
        "\"\"\"\n",
        "plt.axes().set_aspect(1) # 가로:세로 비율을 같은 척도로 지정한다.\n",
        "plt.plot(xdf(a,b,k,alpha,ansAB.T[0]),ydf(a,b,k,alpha,ansAB.T[0]),label='AB1')\n",
        "plt.plot(xuf(a,b,k,alpha,ansCD.T[0]),yuf(a,b,k,alpha,ansCD.T[0]),label='CD1')\n",
        "plt.plot(xdf(a,b,k,alpha,ansA2.T[0]),ydf(a,b,k,alpha,ansA2.T[0]),label='A2')\n",
        "plt.plot(xuf(a,b,k,alpha,ansB2.T[0]),yuf(a,b,k,alpha,ansB2.T[0]),label='B2')\n",
        "plt.plot(xdf(a,b,k,alpha,ansC2.T[0]),ydf(a,b,k,alpha,ansC2.T[0]),\":\",label='C2')\n",
        "plt.plot(xuf(a,b,k,alpha,ansD2.T[0]),yuf(a,b,k,alpha,ansD2.T[0]),\":\",label='D2')\n",
        "plt.legend()"
      ],
      "metadata": {
        "colab": {
          "base_uri": "https://localhost:8080/",
          "height": 448
        },
        "id": "64vS0LkDlIRn",
        "outputId": "6bcac427-39c6-46b4-d9a7-ff536c369ea2"
      },
      "execution_count": null,
      "outputs": [
        {
          "output_type": "execute_result",
          "data": {
            "text/plain": [
              "<matplotlib.legend.Legend at 0x7a4141366680>"
            ]
          },
          "metadata": {},
          "execution_count": 53
        },
        {
          "output_type": "display_data",
          "data": {
            "text/plain": [
              "<Figure size 640x480 with 1 Axes>"
            ],
            "image/png": "[encoded data removed]"
          },
          "metadata": {}
        }
      ]
    },
    {
      "cell_type": "code",
      "source": [
        "\"\"\"\n",
        "phi와 phidot 값으로부터 속력을 계산하는 함수\n",
        "\"\"\"\n",
        "\n",
        "def getv(simans,profile=\"up\"):\n",
        "  match profile:\n",
        "    case \"up\":\n",
        "      vxf = vxuf\n",
        "      vyf = vyuf\n",
        "    case \"dn\":\n",
        "      vxf = vxdf\n",
        "      vyf = vydf\n",
        "  vx = vxf(a,b,k,alpha,simans.T[0],simans.T[1])\n",
        "  vy = vyf(a,b,k,alpha,simans.T[0],simans.T[1])\n",
        "  v = np.sqrt(vx**2 + vy**2)\n",
        "  return v"
      ],
      "metadata": {
        "id": "s9KvtehLkoAC"
      },
      "execution_count": null,
      "outputs": []
    },
    {
      "cell_type": "code",
      "source": [
        "\"\"\"\n",
        "A~D 각각의 구간별 속력\n",
        "\"\"\"\n",
        "vA1 = getv(ansAB,profile=\"dn\")\n",
        "vC1 = getv(ansCD,profile=\"up\")\n",
        "vA2 = getv(ansA2,profile=\"dn\")\n",
        "vB2 = getv(ansB2,profile=\"up\")\n",
        "vC2 = getv(ansC2,profile=\"dn\")\n",
        "vD2 = getv(ansD2,profile=\"up\")\n",
        "\n",
        "\"\"\"\n",
        "A~D 각각의 시간에 대한 속력 그래프:\n",
        "\"\"\"\n",
        "plt.plot(tsAB, vA1, label=\"A/B\")\n",
        "plt.plot(tsCD, vC1, label=\"C/D\")\n",
        "plt.plot(tsA2, vA2, label=\"A\")\n",
        "plt.plot(tsB2, vB2, label=\"B\")\n",
        "plt.plot(tsC2, vC2, label=\"C\")\n",
        "plt.plot(tsD2, vD2, label=\"D\")\n",
        "\n",
        "plt.legend()\n",
        "plt.title(f\"a={a:.2f}; b={b:.2f}; k={k:.2f}; alpha={alpha/deg:.1f} deg\")\n",
        "plt.grid()\n",
        "plt.xlabel(\"t (s)\")\n",
        "plt.ylabel(\"speed (m/s)\")\n",
        "plt.axhline(vC1[-1],c='black',ls='dotted')\n",
        "plt.axhline(vD2[-1],c='black',ls='dotted')"
      ],
      "metadata": {
        "colab": {
          "base_uri": "https://localhost:8080/",
          "height": 490
        },
        "id": "PlH6ToaZVTjN",
        "outputId": "9d123f74-5eca-4cae-9f3b-fc5bf15c2a40"
      },
      "execution_count": null,
      "outputs": [
        {
          "output_type": "execute_result",
          "data": {
            "text/plain": [
              "<matplotlib.lines.Line2D at 0x7a413faf7460>"
            ]
          },
          "metadata": {},
          "execution_count": 58
        },
        {
          "output_type": "display_data",
          "data": {
            "text/plain": [
              "<Figure size 640x480 with 1 Axes>"
            ],
            "image/png": "[encoded data removed]"
          },
          "metadata": {}
        }
      ]
    },
    {
      "cell_type": "code",
      "source": [
        "t1 = t3 = tPAB\n",
        "t5 = t7 = tPCD\n",
        "t2 = tQA - tPAB\n",
        "t4 = tQB - tPAB\n",
        "t6 = tQC - tPCD\n",
        "t8 = tQD - tPCD"
      ],
      "metadata": {
        "id": "n19IpOcCVzH6"
      },
      "execution_count": null,
      "outputs": []
    },
    {
      "cell_type": "markdown",
      "source": [
        "$$ \\dfrac{t_5 \\times t_6 \\times t_7 \\times t_8}{t_1 \\times t_2 \\times t_3 \\times t_4}$$"
      ],
      "metadata": {
        "id": "PpFFoHsaTLGo"
      }
    },
    {
      "cell_type": "code",
      "source": [
        "(t5*t6*t7*t8)/(t1*t2*t3*t4)"
      ],
      "metadata": {
        "colab": {
          "base_uri": "https://localhost:8080/"
        },
        "id": "zr9zRTUuSxh2",
        "outputId": "17945b46-b6f2-4636-9034-99321cea6f3b"
      },
      "execution_count": null,
      "outputs": [
        {
          "output_type": "execute_result",
          "data": {
            "text/plain": [
              "1.4849684135616297"
            ]
          },
          "metadata": {},
          "execution_count": 61
        }
      ]
    },
    {
      "cell_type": "markdown",
      "source": [
        "$$ \\dfrac{t_2 \\times t_4 \\times t_6 \\times t_8}{t_1 \\times t_3 \\times t_5 \\times t_7}$$"
      ],
      "metadata": {
        "id": "-TTkOZvqUDvH"
      }
    },
    {
      "cell_type": "code",
      "source": [
        "(t2*t4*t6*t8)/(t1*t3*t5*t7)"
      ],
      "metadata": {
        "colab": {
          "base_uri": "https://localhost:8080/"
        },
        "id": "_AVd4QsTT6aI",
        "outputId": "c6acd90b-7c2a-4eec-a09e-4965b3a6bf39"
      },
      "execution_count": null,
      "outputs": [
        {
          "output_type": "execute_result",
          "data": {
            "text/plain": [
              "0.030461665650666225"
            ]
          },
          "metadata": {},
          "execution_count": 61
        }
      ]
    },
    {
      "cell_type": "code",
      "source": [],
      "metadata": {
        "id": "vehTIkcEUOeZ"
      },
      "execution_count": null,
      "outputs": []
    }
  ]
}